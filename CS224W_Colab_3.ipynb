{
 "cells": [
  {
   "cell_type": "markdown",
   "metadata": {
    "id": "XuXWJLEm2UWS"
   },
   "source": [
    "# **CS224W - Colab 3**"
   ]
  },
  {
   "cell_type": "markdown",
   "metadata": {
    "id": "8gzsP50bF6Gb"
   },
   "source": [
    "In Colab 2 we constructed GNN models by using PyTorch Geometric built in GCN layer, the `GCNConv`. In this Colab we will implement the **GraphSAGE** ([Hamilton et al. (2017)](https://arxiv.org/abs/1706.02216)) and **GAT** ([Veličković et al. (2018)](https://arxiv.org/abs/1710.10903)) layers directly. Then we will run our models on the CORA dataset, which is a standard citation network benchmark dataset.\n",
    "\n",
    "We will then use [DeepSNAP](https://snap.stanford.edu/deepsnap/), a Python library assisting efficient deep learning on graphs, to split the graphs in different settings and apply dataset transformations.\n",
    "\n",
    "At last, using DeepSNAP transductive link prediction split functionality, we will construct a simple GNN model on the edge property predition (link prediction) task.\n",
    "\n",
    "**Note**: Make sure to **sequentially run all the cells in each section**, so that the intermediate variables / packages will carry over to the next cell\n",
    "\n",
    "Have fun on Colab 3 :)"
   ]
  },
  {
   "cell_type": "markdown",
   "metadata": {
    "id": "MSaetj53YnT6"
   },
   "source": [
    "# Device\n",
    "You might need to use GPU for this Colab.\n",
    "\n",
    "Please click `Runtime` and then `Change runtime type`. Then set the `hardware accelerator` to **GPU**."
   ]
  },
  {
   "cell_type": "markdown",
   "metadata": {
    "id": "67gOQITlCNQi"
   },
   "source": [
    "## Installation"
   ]
  },
  {
   "cell_type": "code",
   "execution_count": 1,
   "metadata": {
    "id": "J_m9l6OYCQZP"
   },
   "outputs": [],
   "source": [
    "!pip install -q torch-scatter -f https://pytorch-geometric.com/whl/torch-1.7.0+cu101.html\n",
    "!pip install -q torch-sparse -f https://pytorch-geometric.com/whl/torch-1.7.0+cu101.html\n",
    "!pip install -q torch-geometric\n",
    "!pip install -q git+https://github.com/snap-stanford/deepsnap.git"
   ]
  },
  {
   "cell_type": "code",
   "execution_count": 2,
   "metadata": {
    "id": "PRfgbfTjCRD_"
   },
   "outputs": [
    {
     "data": {
      "text/plain": [
       "'1.7.2'"
      ]
     },
     "execution_count": 2,
     "metadata": {},
     "output_type": "execute_result"
    }
   ],
   "source": [
    "import torch_geometric\n",
    "torch_geometric.__version__"
   ]
  },
  {
   "cell_type": "markdown",
   "metadata": {
    "id": "ZoXlf4MtYrbz"
   },
   "source": [
    "# 1 GNN Layers"
   ]
  },
  {
   "cell_type": "markdown",
   "metadata": {
    "id": "TQy2RBfgYut4"
   },
   "source": [
    "## Implementing Layer Modules\n",
    "\n",
    "In colab 2, we implemented a network using GCN in node and graph classification tasks. However, the GCN module we used in colab 2 is from the official library. For this problem, we will provide you with a general Graph Neural Network Stack, where you'll be able to plugin your own modules of GraphSAGE and GATs. We will use our implementations to complete node classification on CORA, which is a standard citation network benchmark dataset. In this dataset, nodes correspond to documents and edges correspond to undirected citations. Each node has a class label. The node features are elements of a bag-or-words representation of a document. For the Cora dataset, there are 2708 nodes, 5429 edges, 7 prediction classes for nodes, and 1433 features per node. "
   ]
  },
  {
   "cell_type": "markdown",
   "metadata": {
    "id": "H4ne6Gw-CT5G"
   },
   "source": [
    "## GNN Stack Module\n",
    "\n",
    "Below is the implementation for a general GNN Module that could plugin any layers, including **GraphSage**, **GAT**, etc. This module is provided for you, and you own **GraphSage** and **GAT** layers will function as components in the GNNStack Module."
   ]
  },
  {
   "cell_type": "code",
   "execution_count": 4,
   "metadata": {
    "id": "Ys8vZAFPCWWe"
   },
   "outputs": [],
   "source": [
    "import torch\n",
    "import torch_scatter\n",
    "import torch.nn as nn\n",
    "import torch.nn.functional as F\n",
    "\n",
    "import torch_geometric.nn as pyg_nn\n",
    "import torch_geometric.utils as pyg_utils\n",
    "\n",
    "from torch import Tensor\n",
    "from typing import Union, Tuple, Optional\n",
    "from torch_geometric.typing import (OptPairTensor, Adj, Size, NoneType,\n",
    "                                    OptTensor)\n",
    "\n",
    "from torch.nn import Parameter, Linear\n",
    "from torch_sparse import SparseTensor, set_diag\n",
    "from torch_geometric.nn.conv import MessagePassing\n",
    "from torch_geometric.utils import remove_self_loops, add_self_loops, softmax\n",
    "\n",
    "class GNNStack(torch.nn.Module):\n",
    "    def __init__(self, input_dim, hidden_dim, output_dim, args, emb=False):\n",
    "        super(GNNStack, self).__init__()\n",
    "        conv_model = self.build_conv_model(args.model_type)\n",
    "        self.convs = nn.ModuleList()\n",
    "        self.convs.append(conv_model(input_dim, hidden_dim))\n",
    "        assert (args.num_layers >= 1), 'Number of layers is not >=1'\n",
    "        for l in range(args.num_layers-1):\n",
    "            self.convs.append(conv_model(args.heads * hidden_dim, hidden_dim))\n",
    "\n",
    "        # post-message-passing\n",
    "        self.post_mp = nn.Sequential(\n",
    "            nn.Linear(args.heads * hidden_dim, hidden_dim), nn.Dropout(args.dropout), \n",
    "            nn.Linear(hidden_dim, output_dim))\n",
    "\n",
    "        self.dropout = args.dropout\n",
    "        self.num_layers = args.num_layers\n",
    "\n",
    "        self.emb = emb\n",
    "\n",
    "    def build_conv_model(self, model_type):\n",
    "        if model_type == 'GraphSage':\n",
    "            return GraphSage\n",
    "        elif model_type == 'GAT':\n",
    "            # When applying GAT with num heads > 1, one needs to modify the \n",
    "            # input and output dimension of the conv layers (self.convs),\n",
    "            # to ensure that the input dim of the next layer is num heads\n",
    "            # multiplied by the output dim of the previous layer.\n",
    "            # HINT: In case you want to play with multiheads, you need to change the for-loop when builds up self.convs to be\n",
    "            # self.convs.append(conv_model(hidden_dim * num_heads, hidden_dim)), \n",
    "            # and also the first nn.Linear(hidden_dim * num_heads, hidden_dim) in post-message-passing.\n",
    "            return GAT\n",
    "\n",
    "    def forward(self, data):\n",
    "        x, edge_index, batch = data.x, data.edge_index, data.batch\n",
    "          \n",
    "        for i in range(self.num_layers):\n",
    "            x = self.convs[i](x, edge_index)\n",
    "            x = F.relu(x)\n",
    "            x = F.dropout(x, p=self.dropout)\n",
    "\n",
    "        x = self.post_mp(x)\n",
    "\n",
    "        if self.emb == True:\n",
    "            return x\n",
    "\n",
    "        return F.log_softmax(x, dim=1)\n",
    "\n",
    "    def loss(self, pred, label):\n",
    "        return F.nll_loss(pred, label)"
   ]
  },
  {
   "cell_type": "markdown",
   "metadata": {
    "id": "syDtxjxoCZgq"
   },
   "source": [
    "## GraphSage Implementation\n",
    "\n",
    "Now let's start working on our own implementation of layers! This part is to get you familiar with how to implement Pytorch layer based on Message Passing. You will be implementing the **forward**, **message** and **aggregate** functions.\n",
    "\n",
    "Generally, the **forward** function is where the actual message passing is conducted. All logic in each iteration happens in **forward**, where we'll call **propagate** function to propagate information from neighbor nodes to central nodes.  So the general paradigm will be pre-processing -> propagate -> post-processing.\n",
    "\n",
    "Recall the process of message passing we introduced in homework 1. **propagate** further calls **message** which transforms information of neighbor nodes into messages, **aggregate** which aggregates all messages from neighbor nodes into one, and **update** which further generates the embedding for nodes in the next iteration.\n",
    "\n",
    "Our implementation is slightly variant from this, where we'll not explicitly implement **update**, but put the logic for updating nodes in **forward** function. To be more specific, after information is propagated, we can further conduct some operations on the output of **propagate**. The output of **forward** is exactly the embeddings after the current iteration.\n",
    "\n",
    "In addition, tensors passed to **propagate()** can be mapped to the respective nodes $i$ and $j$ by appending _i or _j to the variable name, .e.g. x_i and x_j. Note that we generally refer to $i$ as the central nodes that aggregates information, and refer to $j$ as the neighboring nodes, since this is the most common notation.\n",
    "\n",
    "Please find more details in the comments. One thing to note is that we're adding **skip connections** to our GraphSage. Formally, the update rule for our model is described as below:\n",
    "\n",
    "\\begin{equation}\n",
    "h_v^{(l)} = W_l\\cdot h_v^{(l-1)} + W_r \\cdot AGG(\\{h_u^{(l-1)}, \\forall u \\in N(v) \\})\n",
    "\\end{equation}\n",
    "\n",
    "For simplicity, we use mean aggregations where:\n",
    "\n",
    "\\begin{equation}\n",
    "AGG(\\{h_u^{(l-1)}, \\forall u \\in N(v) \\}) = \\frac{1}{|N(v)|} \\sum_{u\\in N(v)} h_u^{(l-1)}\n",
    "\\end{equation}\n",
    "\n",
    "Additionally, $\\ell$-2 normalization is applied after each iteration.\n",
    "\n",
    "In order to complete the work correctly, we have to understand how the different functions interact with each other. In **propagate** we can pass in any parameters we want. For example, we pass in $x$ as an parameter:\n",
    "\n",
    "... = propagate(..., $x$=($x_{central}$, $x_{neighbor}$), ...)\n",
    "\n",
    "Here $x_{central}$ and $x_{neighbor}$ represent the features from **central** nodes and from **neighbor** nodes. If we're using the same representations from central and neighbor, then $x_{central}$ and $x_{neighbor}$ could be identical.\n",
    "\n",
    "Suppose $x_{central}$ and $x_{neighbor}$ are both of shape N * d, where N is number of nodes, and d is dimension of features.\n",
    "\n",
    "Then in message function, we can take parameters called $x\\_i$ and $x\\_j$. Usually $x\\_i$ represents \"central nodes\", and $x\\_j$ represents \"neighbor nodes\". Pay attention to the shape here: $x\\_i$ and $x\\_j$ are both of shape E * d (**not N!**). $x\\_i$ is obtained by concatenating the embeddings of central nodes of all edges through lookups from $x_{central}$ we passed in propagate. Similarly, $x\\_j$ is obtained by concatenating the embeddings of neighbor nodes of all edges through lookups from $x_{neighbor}$ we passed in propagate.\n",
    "\n",
    "Let's look at an example. Suppose we have 4 nodes, so $x_{central}$ and $x_{neighbor}$ are of shape 4 * d. We have two edges (1, 2) and (3, 0). Thus, $x\\_i$ is obtained by $[x_{central}[1]^T; x_{central}[3]^T]^T$, and $x\\_j$ is obtained by $[x_{neighbor}[2]^T; x_{neighbor}[0]^T]^T$\n",
    "\n",
    "<font color='red'>For the following questions, DON'T refer to any existing implementations online.</font>"
   ]
  },
  {
   "cell_type": "code",
   "execution_count": 5,
   "metadata": {
    "colab": {
     "background_save": true
    },
    "id": "RwG4HqCFCaOD"
   },
   "outputs": [],
   "source": [
    "class GraphSage(MessagePassing):\n",
    "    \n",
    "    def __init__(self, in_channels, out_channels, normalize = True,\n",
    "                 bias = False, **kwargs):  \n",
    "        super(GraphSage, self).__init__(**kwargs)\n",
    "\n",
    "        self.in_channels = in_channels\n",
    "        self.out_channels = out_channels\n",
    "        self.normalize = normalize\n",
    "\n",
    "        ############################################################################\n",
    "        # TODO: Your code here! \n",
    "        # Define the layers needed for the message and update functions below.\n",
    "        # self.lin_l is the linear transformation that you apply to embedding \n",
    "        #            for central node.\n",
    "        # self.lin_r is the linear transformation that you apply to aggregated \n",
    "        #            message from neighbors.\n",
    "        # Our implementation is ~2 lines, but don't worry if you deviate from this.\n",
    "        self.lin_l = nn.Linear(self.in_channels, self.out_channels)\n",
    "        self.lin_r = nn.Linear(self.in_channels, self.out_channels)\n",
    "\n",
    "        ############################################################################\n",
    "\n",
    "        self.reset_parameters()\n",
    "\n",
    "    def reset_parameters(self):\n",
    "        self.lin_l.reset_parameters()\n",
    "        self.lin_r.reset_parameters()\n",
    "\n",
    "    def forward(self, x, edge_index, size = None):\n",
    "        \"\"\"\"\"\"\n",
    "\n",
    "        ############################################################################\n",
    "        # TODO: Your code here! \n",
    "        # Implement message passing, as well as any post-processing (our update rule).\n",
    "        # 1. First call propagate function to conduct the message passing.\n",
    "        #    1.1 See there for more information: \n",
    "        #        https://pytorch-geometric.readthedocs.io/en/latest/notes/create_gnn.html\n",
    "        #    1.2 We use the same representations for central (x_central) and \n",
    "        #        neighbor (x_neighbor) nodes, which means you'll pass x=(x, x) \n",
    "        #        to propagate.\n",
    "        # 2. Update our node embedding with skip connection.\n",
    "        # 3. If normalize is set, do L-2 normalization (defined in \n",
    "        #    torch.nn.functional)\n",
    "        # Our implementation is ~5 lines, but don't worry if you deviate from this.\n",
    "        out = self.propagate(edge_index, x=(x,x))\n",
    "        out = self.lin_r(out) # apply linear layer to messages - self.lin_r is the linear transformation that you apply to aggregated message from neighbors.\n",
    "        out += self.lin_l(x)  # add skip connection - self.lin_l is the linear transformation that you apply to embedding for central node.\n",
    "        if self.normalize:\n",
    "            F.normalize(out, p = 2)  # normalize\n",
    "            \n",
    "        ############################################################################\n",
    "\n",
    "        return out\n",
    "\n",
    "    def message(self, x_j):\n",
    "\n",
    "        ############################################################################\n",
    "        # TODO: Your code here! \n",
    "        # Implement your message function here.\n",
    "        # Our implementation is ~1 lines, but don't worry if you deviate from this.\n",
    "        \n",
    "        out = x_j\n",
    "        ############################################################################\n",
    "\n",
    "        return out\n",
    "\n",
    "    def aggregate(self, inputs, index, dim_size = None):\n",
    "\n",
    "        # The axis along which to index number of nodes.\n",
    "        node_dim = self.node_dim\n",
    "\n",
    "        ############################################################################\n",
    "        # TODO: Your code here! \n",
    "        # Implement your aggregate function here.\n",
    "        # See here as how to use torch_scatter.scatter: \n",
    "        # https://pytorch-scatter.readthedocs.io/en/latest/functions/scatter.html#torch_scatter.scatter\n",
    "        # Our implementation is ~1 lines, but don't worry if you deviate from this.\n",
    "        out = torch_scatter.scatter(src = inputs, \n",
    "                                    index = index, \n",
    "                                    dim = self.node_dim, \n",
    "                                    dim_size=dim_size, \n",
    "                                    reduce = \"mean\")\n",
    "\n",
    "        ############################################################################\n",
    "\n",
    "        return out\n"
   ]
  },
  {
   "cell_type": "markdown",
   "metadata": {
    "id": "qjcfF3RACdLD"
   },
   "source": [
    "## GAT Implementation\n",
    "\n",
    "Attention mechanisms have become the state-of-the-art in many sequence-based tasks such as machine translation and learning sentence representations. One of the major benefits of attention-based mechanisms is their ability to focus on the most relevant parts of the input to make decisions. In this problem, we will see how attention mechanisms can be used to perform node classification of graph-structured data through the usage of Graph Attention Networks (GATs).\n",
    "\n",
    "The building block of the Graph Attention Network is the graph attention layer, which is a variant of the aggregation function . Let $N$ be the number of nodes and $F$ be the dimension of the feature vector for each node. The input to each graph attentional layer is a set of node features: $\\mathbf{h} = \\{\\overrightarrow{h_1}, \\overrightarrow{h_2}, \\dots, \\overrightarrow{h_N}$\\}, $\\overrightarrow{h_i} \\in R^F$. The output of each graph attentional layer is a new set of node features, which may have a new dimension $F'$: $\\mathbf{h'} = \\{\\overrightarrow{h_1'}, \\overrightarrow{h_2'}, \\dots, \\overrightarrow{h_N'}\\}$, with $\\overrightarrow{h_i'} \\in \\mathbb{R}^{F'}$.\n",
    "\n",
    "We will now describe this transformation of the input features into higher-level features performed by each graph attention layer. First, a shared linear transformation parametrized by the weight matrix $\\mathbf{W} \\in \\mathbb{R}^{F' \\times F}$ is applied to every node. Next, we perform self-attention on the nodes. We use a shared attentional mechanism:\n",
    "\\begin{equation} \n",
    "a : \\mathbb{R}^{F'} \\times \\mathbb{R}^{F'} \\rightarrow \\mathbb{R}.\n",
    "\\end{equation}\n",
    "\n",
    "This mechanism computes the attention coefficients that capture the importance of node $j$'s features to node $i$:\n",
    "\\begin{equation}\n",
    "e_{ij} = a(\\mathbf{W_l}\\overrightarrow{h_i}, \\mathbf{W_r} \\overrightarrow{h_j})\n",
    "\\end{equation}\n",
    "The most general formulation of self-attention allows every node to attend to all other nodes which drops all structural information. To utilize graph structure in the attention mechanisms, we can use masked attention. In masked attention, we only compute $e_{ij}$ for nodes $j \\in \\mathcal{N}_i$ where $\\mathcal{N}_i$ is some neighborhood of node $i$ in the graph.\n",
    "\n",
    "To easily compare coefficients across different nodes, we normalize the coefficients across $j$ using a softmax function:\n",
    "\\begin{equation}\n",
    "\\alpha_{ij} = \\text{softmax}_j(e_{ij}) = \\frac{\\exp(e_{ij})}{\\sum_{k \\in \\mathcal{N}_i} \\exp(e_{ik})}\n",
    "\\end{equation}\n",
    "\n",
    "For this problem, our attention mechanism $a$ will be a single-layer feedforward neural network parametrized by a weight vector $\\overrightarrow{a} \\in \\mathbb{R}^{F'}$, followed by a LeakyReLU nonlinearity (with negative input slope 0.2). Let $\\cdot^T$ represent transposition and $||$ represent concatenation. The coefficients computed by our attention mechanism may be expressed as:\n",
    "\n",
    "\\begin{equation}\n",
    "\\alpha_{ij} = \\frac{\\exp\\Big(\\text{LeakyReLU}\\Big(\\overrightarrow{a_l}^T \\mathbf{W_l} \\overrightarrow{h_i} + \\overrightarrow{a_r}^T\\mathbf{W_r}\\overrightarrow{h_j}\\Big)\\Big)}{\\sum_{k\\in \\mathcal{N}_i} \\exp\\Big(\\text{LeakyReLU}\\Big(\\overrightarrow{a_l}^T \\mathbf{W_l} \\overrightarrow{h_i} + \\overrightarrow{a_r}^T\\mathbf{W_r}\\overrightarrow{h_k}\\Big)\\Big)}\n",
    "\\end{equation}\n",
    "\n",
    "For the following questions, we denote $\\alpha_l = [...,\\overrightarrow{a_l}^T \\mathbf{W_l} \\overrightarrow{h_i},...]$ and $\\alpha_r = [..., \\overrightarrow{a_r}^T \\mathbf{W_r} \\overrightarrow{h_j}, ...]$.\n",
    "\n",
    "\n",
    "At every layer of GAT, after the attention coefficients are computed for that layer, the aggregation function can be computed by a weighted sum of neighborhood messages, where weights are specified by $\\alpha_{ij}$.\n",
    "\n",
    "Now, we use the normalized attention coefficients to compute a linear combination of the features corresponding to them. These aggregated features will serve as the final output features for every node.\n",
    "\n",
    "\\begin{equation}\n",
    "h_i' = \\sum_{j \\in \\mathcal{N}_i} \\alpha_{ij} \\mathbf{W_r} \\overrightarrow{h_j}.\n",
    "\\end{equation}\n",
    "\n",
    "To stabilize the learning process of self-attention, we use multi-head attention. To do this we use $K$ independent attention mechanisms, or ``heads'' compute output features as in the above equations. Then, we concatenate these output feature representations:\n",
    "\n",
    "\\begin{equation}\n",
    "    \\overrightarrow{h_i}' = ||_{k=1}^K \\Big(\\sum_{j \\in \\mathcal{N}_i} \\alpha_{ij}^{(k)} \\mathbf{W_r}^{(k)} \\overrightarrow{h_j}\\Big)\n",
    "\\end{equation}\n",
    "\n",
    "where $||$ is concentation, $\\alpha_{ij}^{(k)}$ are the normalized attention coefficients computed by the $k$-th attention mechanism $(a^k)$, and $\\mathbf{W}^{(k)}$ is the corresponding input linear transformation's weight matrix. Note that for this setting, $\\mathbf{h'} \\in \\mathbb{R}^{KF'}$."
   ]
  },
  {
   "cell_type": "code",
   "execution_count": 53,
   "metadata": {
    "colab": {
     "background_save": true
    },
    "id": "w4j45gTpCeXO"
   },
   "outputs": [],
   "source": [
    "class GAT(MessagePassing):\n",
    "\n",
    "    def __init__(self, in_channels, out_channels, heads = 2,\n",
    "                 negative_slope = 0.2, dropout = 0., **kwargs):\n",
    "        super(GAT, self).__init__(node_dim=0, **kwargs)\n",
    "\n",
    "        self.in_channels = in_channels\n",
    "        self.out_channels = out_channels\n",
    "        self.heads = heads\n",
    "        self.negative_slope = negative_slope\n",
    "        self.dropout = dropout\n",
    "\n",
    "        ############################################################################\n",
    "        # TODO: Your code here! \n",
    "        # Define the layers needed for the message functions below.\n",
    "        # self.lin_l is the linear transformation that you apply to embeddings \n",
    "        # BEFORE message passing.\n",
    "        # Pay attention to dimensions of the linear layers, since we're using \n",
    "        # multi-head attention.\n",
    "        # Our implementation is ~1 lines, but don't worry if you deviate from this.\n",
    "        \n",
    "        self.lin_l = nn.Linear(self.in_channels, self.out_channels * self.heads)\n",
    "#         self.lin_r = nn.Linear(self.in_channels, self.out_channels * self.heads)\n",
    "\n",
    "        ############################################################################\n",
    "        self.lin_r = self.lin_l\n",
    "\n",
    "        ############################################################################\n",
    "        # TODO: Your code here! \n",
    "        # Define the attention parameters \\overrightarrow{a_l/r}^T in the above intro.\n",
    "        # You have to deal with multi-head scenarios.\n",
    "        # Use nn.Parameter instead of nn.Linear\n",
    "        # Our implementation is ~2 lines, but don't worry if you deviate from this.\n",
    "        \n",
    "        self.att_l = nn.Parameter(torch.zeros(self.heads, self.out_channels)) # Shape as such to yield a 1d vector of size self.heads after multiplication (\\overrightarrow{a_l/r}^T is at the front)\n",
    "        self.att_r = nn.Parameter(torch.zeros(self.heads, self.out_channels))\n",
    "\n",
    "        ############################################################################\n",
    "\n",
    "        self.reset_parameters()\n",
    "\n",
    "    def reset_parameters(self):\n",
    "        nn.init.xavier_uniform_(self.lin_l.weight)\n",
    "        nn.init.xavier_uniform_(self.lin_r.weight)\n",
    "        nn.init.xavier_uniform_(self.att_l)\n",
    "        nn.init.xavier_uniform_(self.att_r)\n",
    "\n",
    "    def forward(self, x, edge_index, size = None):\n",
    "        \n",
    "        H, C = self.heads, self.out_channels\n",
    "\n",
    "        ############################################################################\n",
    "        # TODO: Your code here! \n",
    "        # Implement message passing, as well as any pre- and post-processing (our update rule).\n",
    "        # 1. First apply linear transformation to node embeddings, and split that \n",
    "        #    into multiple heads. We use the same representations for source and\n",
    "        #    target nodes, but apply different linear weights (W_l and W_r)\n",
    "        # 2. Calculate alpha vectors for central nodes (alpha_l) and neighbor nodes (alpha_r).\n",
    "        # 3. Call propagate function to conduct the message passing. \n",
    "        #    3.1 Remember to pass alpha = (alpha_l, alpha_r) as a parameter.\n",
    "        #    3.2 See there for more information: https://pytorch-geometric.readthedocs.io/en/latest/notes/create_gnn.html\n",
    "        # 4. Transform the output back to the shape of N * d.\n",
    "        # Our implementation is ~5 lines, but don't worry if you deviate from this.\n",
    "        \n",
    "        x_l = self.lin_l(x).reshape(-1, H, C)\n",
    "        x_r = self.lin_r(x).reshape(-1, H, C)\n",
    "        \n",
    "        alpha_l = self.att_l * x_l\n",
    "        alpha_r = self.att_r * x_r\n",
    "\n",
    "        out = self.propagate(edge_index, x = (x_l,x_r), alpha = (alpha_l,alpha_r), size = size)\n",
    "        out = out.reshape(-1, H*C)\n",
    "        \n",
    "        ############################################################################\n",
    "\n",
    "        return out\n",
    "\n",
    "\n",
    "    def message(self, x_j, alpha_j, alpha_i, index, ptr, size_i):\n",
    "\n",
    "        ############################################################################\n",
    "        # TODO: Your code here! \n",
    "        # Implement your message function. Putting the attention in message \n",
    "        # instead of in update is a little tricky.\n",
    "        # 1. Calculate the final attention weights using alpha_i and alpha_j,\n",
    "        #    and apply leaky Relu.\n",
    "        # 2. Calculate softmax over the neighbor nodes for all the nodes. Use \n",
    "        #    torch_geometric.utils.softmax instead of the one in Pytorch.\n",
    "        # 3. Apply dropout to attention weights (alpha).\n",
    "        # 4. Multiply embeddings and attention weights. As a sanity check, the output\n",
    "        #    should be of shape E * H * d.\n",
    "        # 5. ptr (LongTensor, optional): If given, computes the softmax based on\n",
    "        #    sorted inputs in CSR representation. You can simply pass it to softmax.\n",
    "        # Our implementation is ~5 lines, but don't worry if you deviate from this.\n",
    "        \n",
    "        act = nn.LeakyReLU(negative_slope = self.negative_slope)\n",
    "        alpha = act(alpha_i + alpha_j)\n",
    "        alpha = torch_geometric.utils.softmax(alpha, index)\n",
    "        dropout = nn.Dropout(p = self.dropout)\n",
    "        alpha = dropout(alpha)\n",
    "        out = alpha * x_j\n",
    "\n",
    "        ############################################################################\n",
    "\n",
    "        return out\n",
    "\n",
    "\n",
    "    def aggregate(self, inputs, index, dim_size = None):\n",
    "\n",
    "        ############################################################################\n",
    "        # TODO: Your code here! \n",
    "        # Implement your aggregate function here.\n",
    "        # See here as how to use torch_scatter.scatter: https://pytorch-scatter.readthedocs.io/en/latest/_modules/torch_scatter/scatter.html\n",
    "        # Pay attention to \"reduce\" parameter is different from that in GraphSage.\n",
    "        # Our implementation is ~1 lines, but don't worry if you deviate from this.\n",
    "\n",
    "        out = torch_scatter.scatter(src = inputs, \n",
    "                                    index = index, \n",
    "                                    dim = self.node_dim, \n",
    "                                    dim_size = dim_size, \n",
    "                                    reduce = \"sum\")\n",
    "        ############################################################################\n",
    "    \n",
    "        return out"
   ]
  },
  {
   "cell_type": "markdown",
   "metadata": {
    "id": "V2dkgSuWCheU"
   },
   "source": [
    "## Building Optimizers\n",
    "\n",
    "This function has been implemented for you. **For grading purposes please use the default Adam optimizer**, but feel free to play with other types of optimizers on your own."
   ]
  },
  {
   "cell_type": "code",
   "execution_count": 54,
   "metadata": {
    "id": "f_TIQ8NPCjBP"
   },
   "outputs": [],
   "source": [
    "import torch.optim as optim\n",
    "\n",
    "def build_optimizer(args, params):\n",
    "    weight_decay = args.weight_decay\n",
    "    filter_fn = filter(lambda p : p.requires_grad, params)\n",
    "    if args.opt == 'adam':\n",
    "        optimizer = optim.Adam(filter_fn, lr=args.lr, weight_decay=weight_decay)\n",
    "    elif args.opt == 'sgd':\n",
    "        optimizer = optim.SGD(filter_fn, lr=args.lr, momentum=0.95, weight_decay=weight_decay)\n",
    "    elif args.opt == 'rmsprop':\n",
    "        optimizer = optim.RMSprop(filter_fn, lr=args.lr, weight_decay=weight_decay)\n",
    "    elif args.opt == 'adagrad':\n",
    "        optimizer = optim.Adagrad(filter_fn, lr=args.lr, weight_decay=weight_decay)\n",
    "    if args.opt_scheduler == 'none':\n",
    "        return None, optimizer\n",
    "    elif args.opt_scheduler == 'step':\n",
    "        scheduler = optim.lr_scheduler.StepLR(optimizer, step_size=args.opt_decay_step, gamma=args.opt_decay_rate)\n",
    "    elif args.opt_scheduler == 'cos':\n",
    "        scheduler = optim.lr_scheduler.CosineAnnealingLR(optimizer, T_max=args.opt_restart)\n",
    "    return scheduler, optimizer"
   ]
  },
  {
   "cell_type": "markdown",
   "metadata": {
    "id": "hBYdWFwYCkwY"
   },
   "source": [
    "## Training and Testing\n",
    "\n",
    "Here we provide you with the functions to train and test. **Please do not modify this part for grading purposes.**"
   ]
  },
  {
   "cell_type": "code",
   "execution_count": 55,
   "metadata": {
    "id": "_tZMWRc8CmGg"
   },
   "outputs": [],
   "source": [
    "import time\n",
    "\n",
    "import networkx as nx\n",
    "import numpy as np\n",
    "import torch\n",
    "import torch.optim as optim\n",
    "\n",
    "from torch_geometric.datasets import TUDataset\n",
    "from torch_geometric.datasets import Planetoid\n",
    "from torch_geometric.data import DataLoader\n",
    "\n",
    "import torch_geometric.nn as pyg_nn\n",
    "\n",
    "import matplotlib.pyplot as plt\n",
    "\n",
    "\n",
    "def train(dataset, args):\n",
    "    \n",
    "    print(\"Node task. test set size:\", np.sum(dataset[0]['train_mask'].numpy()))\n",
    "    test_loader = loader = DataLoader(dataset, batch_size=args.batch_size, shuffle=True)\n",
    "\n",
    "    # build model\n",
    "    model = GNNStack(dataset.num_node_features, args.hidden_dim, dataset.num_classes, \n",
    "                            args)\n",
    "    scheduler, opt = build_optimizer(args, model.parameters())\n",
    "\n",
    "    # train\n",
    "    losses = []\n",
    "    test_accs = []\n",
    "    for epoch in range(args.epochs):\n",
    "        total_loss = 0\n",
    "        model.train()\n",
    "        for batch in loader:\n",
    "            opt.zero_grad()\n",
    "            pred = model(batch)\n",
    "            label = batch.y\n",
    "            pred = pred[batch.train_mask]\n",
    "            label = label[batch.train_mask]\n",
    "            loss = model.loss(pred, label)\n",
    "            loss.backward()\n",
    "            opt.step()\n",
    "            total_loss += loss.item() * batch.num_graphs\n",
    "        total_loss /= len(loader.dataset)\n",
    "        losses.append(total_loss)\n",
    "\n",
    "        if epoch % 10 == 0:\n",
    "          test_acc = test(test_loader, model)\n",
    "          test_accs.append(test_acc)\n",
    "        else:\n",
    "          test_accs.append(test_accs[-1])\n",
    "    return test_accs, losses\n",
    "\n",
    "def test(loader, model, is_validation=True):\n",
    "    model.eval()\n",
    "\n",
    "    correct = 0\n",
    "    for data in loader:\n",
    "        with torch.no_grad():\n",
    "            # max(dim=1) returns values, indices tuple; only need indices\n",
    "            pred = model(data).max(dim=1)[1]\n",
    "            label = data.y\n",
    "\n",
    "        mask = data.val_mask if is_validation else data.test_mask\n",
    "        # node classification: only evaluate on nodes in test set\n",
    "        pred = pred[mask]\n",
    "        label = data.y[mask]\n",
    "            \n",
    "        correct += pred.eq(label).sum().item()\n",
    "\n",
    "    total = 0\n",
    "    for data in loader.dataset:\n",
    "        total += torch.sum(data.val_mask if is_validation else data.test_mask).item()\n",
    "    return correct / total\n",
    "  \n",
    "class objectview(object):\n",
    "    def __init__(self, d):\n",
    "        self.__dict__ = d\n"
   ]
  },
  {
   "cell_type": "markdown",
   "metadata": {
    "id": "L7-h7jIsCns4"
   },
   "source": [
    "## Let's Start the Training!\n",
    "\n",
    "We will be working on the CORA dataset on node-level classification.\n",
    "\n",
    "This part is implemented for you. **For grading purposes, please do not modify the default parameters.** However, feel free to play with different configurations just for fun!\n",
    "\n",
    "**Submit your best accuracy and loss on Gradescope.**"
   ]
  },
  {
   "cell_type": "code",
   "execution_count": 56,
   "metadata": {
    "id": "qe9B45l9Cpz2"
   },
   "outputs": [
    {
     "name": "stdout",
     "output_type": "stream",
     "text": [
      "Node task. test set size: 140\n",
      "Maximum accuracy: 0.734\n",
      "Minimum loss: 0.04096922278404236\n",
      "Node task. test set size: 140\n",
      "Maximum accuracy: 0.776\n",
      "Minimum loss: 0.02724590338766575\n"
     ]
    },
    {
     "data": {
      "image/png": "[encoded data removed]",
      "text/plain": [
       "<Figure size 432x288 with 1 Axes>"
      ]
     },
     "metadata": {
      "needs_background": "light"
     },
     "output_type": "display_data"
    }
   ],
   "source": [
    "def main():\n",
    "    for args in [\n",
    "        {'model_type': 'GraphSage', 'dataset': 'cora', 'num_layers': 2, 'heads': 1, 'batch_size': 32, 'hidden_dim': 32, 'dropout': 0.5, 'epochs': 500, 'opt': 'adam', 'opt_scheduler': 'none', 'opt_restart': 0, 'weight_decay': 5e-3, 'lr': 0.01},\n",
    "    ]:\n",
    "        args = objectview(args)\n",
    "        for model in [\n",
    "                      'GraphSage', \n",
    "                      'GAT',\n",
    "                     ]:\n",
    "            args.model_type = model\n",
    "\n",
    "            # Match the dimension.\n",
    "            if model == 'GAT':\n",
    "              args.heads = 2\n",
    "            else:\n",
    "              args.heads = 1\n",
    "\n",
    "            if args.dataset == 'cora':\n",
    "                dataset = Planetoid(root='/tmp/cora', name='Cora')\n",
    "            else:\n",
    "                raise NotImplementedError(\"Unknown dataset\") \n",
    "            test_accs, losses = train(dataset, args) \n",
    "\n",
    "            print(\"Maximum accuracy: {0}\".format(max(test_accs)))\n",
    "            print(\"Minimum loss: {0}\".format(min(losses)))\n",
    "\n",
    "            plt.title(dataset.name)\n",
    "            plt.plot(losses, label=\"training loss\" + \" - \" + args.model_type)\n",
    "            plt.plot(test_accs, label=\"test accuracy\" + \" - \" + args.model_type)\n",
    "        plt.legend()\n",
    "        plt.show()\n",
    "\n",
    "if __name__ == '__main__':\n",
    "    main()"
   ]
  },
  {
   "cell_type": "markdown",
   "metadata": {
    "id": "gHELqjARZ1W5"
   },
   "source": [
    "## Question 1.1: What is the maximum accuracy you could get on test set for GraphSage? (10 points)\n",
    "\n",
    "Submit your answers on Gradescope."
   ]
  },
  {
   "cell_type": "markdown",
   "metadata": {
    "id": "PlCtBEBLMBkR"
   },
   "source": [
    "## Question 1.2: What is the maximum accuracy you could get on test set for GAT? (10 points)\n",
    "\n",
    "Submit your answers on Gradescope."
   ]
  },
  {
   "cell_type": "markdown",
   "metadata": {
    "id": "Nwwq0nSdmsOL"
   },
   "source": [
    "# 2 DeepSNAP Basics\n",
    "\n",
    "In previous Colabs we used both of graph class (NetworkX) and tensor (PyG) representations of graphs separately. The graph class `nx.Graph` provides rich analysis and manipulation functionalities, such as the clustering coefficient and PageRank. To feed the graph into the model, we need to transform the graph into tensor representations including edge tensor `edge_index` and node attributes tensors `x` and `y`. But only using tensors (as the graphs formatted in PyG `datasets` and `data`) will make many graph manipulations and analysis less efficient and harder. So, in this Colab we will use DeepSNAP which combines both representations and offers a full pipeline for GNN training / validation / testing.\n"
   ]
  },
  {
   "cell_type": "markdown",
   "metadata": {
    "id": "Sf7vUmdNKCjA"
   },
   "source": [
    "In general, [DeepSNAP](https://github.com/snap-stanford/deepsnap) is a Python library to assist efficient deep learning on graphs. DeepSNAP features in its support for flexible graph manipulation, standard pipeline, heterogeneous graphs and simple API.\n",
    "\n",
    "1. DeepSNAP is easy to be used for the sophisticated graph manipulations, such as feature computation, pretraining, subgraph extraction etc. during/before the training.\n",
    "2. In most frameworks, standard pipelines for node, edge, link, graph-level tasks under inductive or transductive settings are left to the user to code. In practice, there are additional design choices involved (such as how to split dataset for link prediction). DeepSNAP provides such a standard pipeline that greatly saves repetitive coding efforts, and enables fair comparision for models.\n",
    "3. Many real-world graphs are heterogeneous graphs. But packages support for heterogeneous graphs, including data storage and flexible message passing, is lacking. DeepSNAP provides an efficient and flexible heterogeneous graph that supports both the node and edge heterogeneity.\n",
    "\n",
    "[DeepSNAP](https://github.com/snap-stanford/deepsnap) is a newly released project and it is still under development. If you find any bugs or have any improvement ideas, feel free to raise issues or create pull requests on the GitHub directly :)\n",
    "\n",
    "In this Colab, we will focus on DeepSNAP graph manipulations and splitting settings."
   ]
  },
  {
   "cell_type": "markdown",
   "metadata": {
    "id": "20SvvngpQmmQ"
   },
   "source": [
    "## Setup"
   ]
  },
  {
   "cell_type": "code",
   "execution_count": 57,
   "metadata": {
    "id": "zfbBVFmAQlwz"
   },
   "outputs": [],
   "source": [
    "import torch\n",
    "import networkx as nx\n",
    "import matplotlib.pyplot as plt\n",
    "\n",
    "from deepsnap.graph import Graph\n",
    "from deepsnap.batch import Batch\n",
    "from deepsnap.dataset import GraphDataset\n",
    "from torch_geometric.datasets import Planetoid, TUDataset\n",
    "\n",
    "from torch.utils.data import DataLoader\n",
    "\n",
    "def visualize(G, color_map=None, seed=123):\n",
    "  if color_map is None:\n",
    "    color_map = '#c92506'\n",
    "  plt.figure(figsize=(8, 8))\n",
    "  nodes = nx.draw_networkx_nodes(G, pos=nx.spring_layout(G, seed=seed), \\\n",
    "                                 label=None, node_color=color_map, node_shape='o', node_size=150)\n",
    "  edges = nx.draw_networkx_edges(G, pos=nx.spring_layout(G, seed=seed), alpha=0.5)\n",
    "  if color_map is not None:\n",
    "    plt.scatter([],[], c='#c92506', label='Nodes with label 0', edgecolors=\"black\", s=140)\n",
    "    plt.scatter([],[], c='#fcec00', label='Nodes with label 1', edgecolors=\"black\", s=140)\n",
    "    plt.legend(prop={'size': 13}, handletextpad=0)\n",
    "  nodes.set_edgecolor('black')\n",
    "  plt.show()"
   ]
  },
  {
   "cell_type": "markdown",
   "metadata": {
    "id": "ic-o1P3r6hr2"
   },
   "source": [
    "## DeepSNAP Graph\n",
    "\n",
    "The `deepsnap.graph.Graph` class is the core class of DeepSNAP. It not only represents a graph in tensor format but also references to a graph object from graph manipulation package.\n",
    "\n",
    "Currently DeepSNAP supports [NetworkX](https://networkx.org/) and [Snap.py](https://snap.stanford.edu/snappy/doc/index.html) as the back end graph manipulation package.\n",
    "\n",
    "In this Colab, we will use the NetworkX as the back end graph manipulation package."
   ]
  },
  {
   "cell_type": "markdown",
   "metadata": {
    "id": "Ispq_lIoJl_z"
   },
   "source": [
    "Lets first try to convert a simple random NetworkX graph to a DeepSNAP graph."
   ]
  },
  {
   "cell_type": "code",
   "execution_count": 59,
   "metadata": {
    "id": "zT5qca3x6XpG"
   },
   "outputs": [
    {
     "name": "stdout",
     "output_type": "stream",
     "text": [
      "(0, {'node_feature': tensor([0.2426, 0.1661, 0.0221, 0.5780, 0.4441]), 'node_label': tensor(1)})\n"
     ]
    },
    {
     "data": {
      "image/png": "[encoded data removed]",
      "text/plain": [
       "<Figure size 576x576 with 1 Axes>"
      ]
     },
     "metadata": {},
     "output_type": "display_data"
    },
    {
     "name": "stdout",
     "output_type": "stream",
     "text": [
      "Graph(G=[], edge_index=[2, 524], edge_label_index=[2, 524], node_feature=[100, 5], node_label=[100], node_label_index=[100])\n",
      "Node feature (node_feature) has shape torch.Size([100, 5]) and type torch.float32\n",
      "Node label (node_label) has shape torch.Size([100]) and type torch.int64\n",
      "Edge index (edge_index) has shape torch.Size([2, 524]) and type torch.int64\n",
      "The DeepSNAP graph has <class 'networkx.classes.graph.Graph'> as the internal manupulation graph\n"
     ]
    }
   ],
   "source": [
    "num_nodes = 100\n",
    "p = 0.05\n",
    "seed = 100\n",
    "\n",
    "# Generate a networkx random graph\n",
    "G = nx.gnp_random_graph(num_nodes, p, seed=seed)\n",
    "\n",
    "# Generate some random node features and labels\n",
    "node_feature = {node : torch.rand([5, ]) for node in G.nodes()}\n",
    "node_label = {node : torch.randint(0, 2, ()) for node in G.nodes()}\n",
    "\n",
    "# Set the random features and labels to G\n",
    "nx.set_node_attributes(G, node_feature, name='node_feature')\n",
    "nx.set_node_attributes(G, node_label, name='node_label')\n",
    "\n",
    "# Print one node example\n",
    "for node in G.nodes(data=True):\n",
    "  print(node)\n",
    "  break\n",
    "\n",
    "color_map = ['#c92506' if node[1]['node_label'].item() == 0 else '#fcec00' for node in G.nodes(data=True)]\n",
    "\n",
    "# Visualize the graph\n",
    "visualize(G, color_map=color_map)\n",
    "\n",
    "# Transform the networkx graph into the deepsnap graph\n",
    "graph = Graph(G)\n",
    "\n",
    "# Print out the general deepsnap graph information\n",
    "print(graph)\n",
    "\n",
    "# DeepSNAP will convert node attributes to tensors\n",
    "# Notice the type of tensors\n",
    "print(\"Node feature (node_feature) has shape {} and type {}\".format(graph.node_feature.shape, graph.node_feature.dtype))\n",
    "print(\"Node label (node_label) has shape {} and type {}\".format(graph.node_label.shape, graph.node_label.dtype))\n",
    "\n",
    "# DeepSNAP will also generate the edge_index tensor\n",
    "print(\"Edge index (edge_index) has shape {} and type {}\".format(graph.edge_index.shape, graph.edge_index.dtype))\n",
    "\n",
    "# Different from only storing tensors, deepsnap graph also references to the networkx graph\n",
    "# We will discuss why the reference will be helpful later\n",
    "print(\"The DeepSNAP graph has {} as the internal manupulation graph\".format(type(graph.G)))"
   ]
  },
  {
   "cell_type": "markdown",
   "metadata": {
    "id": "PNMbc307KOQD"
   },
   "source": [
    "In DeepSNAP we have three levels of attributes. In this example, we have the **node level** attributes including `node_feature` and `node_label`. The other two levels of attributes are graph and edge attributes. The usage is similar to the node level one except that the feature becomes `edge_feature` or `graph_feature` and label becomes `edge_label` or `graph_label` etc."
   ]
  },
  {
   "cell_type": "markdown",
   "metadata": {
    "id": "G8Xz58_Da0qL"
   },
   "source": [
    "Similar to the NetworkX graph, we can easily get some basic information of the graph through class properties directly."
   ]
  },
  {
   "cell_type": "code",
   "execution_count": 60,
   "metadata": {
    "id": "dLo4zWAoeg6S"
   },
   "outputs": [
    {
     "name": "stdout",
     "output_type": "stream",
     "text": [
      "The random graph has 100 nodes\n",
      "The random graph has 262 edges\n"
     ]
    }
   ],
   "source": [
    "# Number of nodes\n",
    "print(\"The random graph has {} nodes\".format(graph.num_nodes))\n",
    "\n",
    "# Number of edges\n",
    "print(\"The random graph has {} edges\".format(graph.num_edges))"
   ]
  },
  {
   "cell_type": "markdown",
   "metadata": {
    "id": "Po7IaRmwblI5"
   },
   "source": [
    "DeepSNAP also provides functions that can automatically transform the PyG datasets into a list of DeepSNAP graphs.\n",
    "\n",
    "Here we transform the CORA dataset into a list of DeepSNAP graphs."
   ]
  },
  {
   "cell_type": "code",
   "execution_count": 72,
   "metadata": {
    "id": "ZFkg2kCgcFwR"
   },
   "outputs": [
    {
     "name": "stdout",
     "output_type": "stream",
     "text": [
      "Downloading https://github.com/kimiyoung/planetoid/raw/master/data/ind.cora.x\n",
      "Downloading https://github.com/kimiyoung/planetoid/raw/master/data/ind.cora.tx\n",
      "Downloading https://github.com/kimiyoung/planetoid/raw/master/data/ind.cora.allx\n",
      "Downloading https://github.com/kimiyoung/planetoid/raw/master/data/ind.cora.y\n",
      "Downloading https://github.com/kimiyoung/planetoid/raw/master/data/ind.cora.ty\n",
      "Downloading https://github.com/kimiyoung/planetoid/raw/master/data/ind.cora.ally\n",
      "Downloading https://github.com/kimiyoung/planetoid/raw/master/data/ind.cora.graph\n",
      "Downloading https://github.com/kimiyoung/planetoid/raw/master/data/ind.cora.test.index\n",
      "Processing...\n",
      "Done!\n",
      "Graph(G=[], edge_index=[2, 10556], edge_label_index=[2, 10556], node_feature=[2708, 1433], node_label=[2708], node_label_index=[2708])\n"
     ]
    }
   ],
   "source": [
    "root = './tmp/cora'\n",
    "name = 'Cora'\n",
    "\n",
    "# The Cora dataset\n",
    "pyg_dataset= Planetoid(root, name)\n",
    "\n",
    "# PyG dataset to a list of deepsnap graphs\n",
    "graphs = GraphDataset.pyg_to_graphs(pyg_dataset)\n",
    "\n",
    "# Get the first deepsnap graph (CORA only has one graph)\n",
    "graph = graphs[0]\n",
    "print(graph)"
   ]
  },
  {
   "cell_type": "markdown",
   "metadata": {
    "id": "NLm5vVYMAP2x"
   },
   "source": [
    "## Question 2.1: What is the number of classes and number of features in the CORA graph? (5 points)\n",
    "\n",
    "Submit your answers on Gradescope."
   ]
  },
  {
   "cell_type": "code",
   "execution_count": 73,
   "metadata": {
    "id": "8iF_Kyqr_JbY"
   },
   "outputs": [
    {
     "name": "stdout",
     "output_type": "stream",
     "text": [
      "Cora has 7 classes\n",
      "Cora has 1433 features\n"
     ]
    }
   ],
   "source": [
    "def get_num_node_classes(graph):\n",
    "  # TODO: Implement this function that takes a deepsnap graph object\n",
    "  # and return the number of node classes of that graph.\n",
    "\n",
    "  ############# Your code here #############\n",
    "  ## (~1 line of code)\n",
    "  ## Note\n",
    "  ## 1. Colab autocomplete functionality might be useful\n",
    "  ## 2. DeepSNAP documentation might be useful https://snap.stanford.edu/deepsnap/modules/graph.html\n",
    "    num_node_classes = graph.num_node_labels\n",
    "\n",
    "  ##########################################\n",
    "\n",
    "    return num_node_classes\n",
    "\n",
    "def get_num_node_features(graph):\n",
    "  # TODO: Implement this function that takes a deepsnap graph object\n",
    "  # and return the number of node features of that graph.\n",
    "\n",
    "  ############# Your code here #############\n",
    "  ## (~1 line of code)\n",
    "  ## Note\n",
    "  ## 1. Colab autocomplete functionality might be useful\n",
    "  ## 2. DeepSNAP documentation might be useful https://snap.stanford.edu/deepsnap/modules/graph.html\n",
    "    \n",
    "    num_node_features = graph.num_node_features\n",
    "\n",
    "  ##########################################\n",
    "\n",
    "    return num_node_features\n",
    "\n",
    "num_node_classes = get_num_node_classes(graph)\n",
    "num_node_features = get_num_node_features(graph)\n",
    "print(\"{} has {} classes\".format(name, num_node_classes))\n",
    "print(\"{} has {} features\".format(name, num_node_features))"
   ]
  },
  {
   "cell_type": "markdown",
   "metadata": {
    "id": "rwKbzhHUAckZ"
   },
   "source": [
    "## DeepSNAP Dataset\n",
    "\n",
    "Now, lets talk about DeepSNAP dataset. A `deepsnap.dataset.GraphDataset` contains a list of `deepsnap.graph.Graph` objects. In addition to list of graphs, you can also specify what task the dataset will be used on, such as node level task (`task=node`), edge level task (`task=link_pred`) and graph level task (`task=graph`).\n",
    "\n",
    "It also contains many other useful parameters during initialization and other functinoalities. If you are interested, you can take a look at the [documentation](https://snap.stanford.edu/deepsnap/modules/dataset.html#deepsnap-graphdataset)."
   ]
  },
  {
   "cell_type": "markdown",
   "metadata": {
    "id": "HSidf9E0hn2s"
   },
   "source": [
    "Lets now use COX2 dataset which contains a list of graphs and specify the task to `graph` when we initialize the DeepSNAP dataset."
   ]
  },
  {
   "cell_type": "code",
   "execution_count": 74,
   "metadata": {
    "id": "l4kqUldyoaS_"
   },
   "outputs": [
    {
     "name": "stdout",
     "output_type": "stream",
     "text": [
      "GraphDataset(467)\n"
     ]
    }
   ],
   "source": [
    "root = './tmp/cox2'\n",
    "name = 'COX2'\n",
    "\n",
    "# Load the dataset through PyG\n",
    "pyg_dataset = TUDataset(root, name)\n",
    "\n",
    "# Convert to a list of deepsnap graphs\n",
    "graphs = GraphDataset.pyg_to_graphs(pyg_dataset)\n",
    "\n",
    "# Convert list of deepsnap graphs to deepsnap dataset with specified task=graph\n",
    "dataset = GraphDataset(graphs, task='graph')\n",
    "print(dataset)"
   ]
  },
  {
   "cell_type": "markdown",
   "metadata": {
    "id": "7sCV3xJWCddX"
   },
   "source": [
    "## Question 2.2: What is the label of the graph (index 100 in the COX2 dataset)? (5 points)\n",
    "\n",
    "Submit your answers on Gradescope."
   ]
  },
  {
   "cell_type": "code",
   "execution_count": 75,
   "metadata": {
    "id": "LIis9oTZAfs3"
   },
   "outputs": [
    {
     "name": "stdout",
     "output_type": "stream",
     "text": [
      "Graph(G=[], edge_index=[2, 82], edge_label_index=[2, 82], graph_label=[1], node_feature=[39, 35], node_label_index=[39], task=[])\n",
      "Graph with index 100 has label tensor([0])\n"
     ]
    }
   ],
   "source": [
    "def get_graph_class(dataset, idx):\n",
    "  # TODO: Implement this function that takes a deepsnap dataset object,\n",
    "  # the index of the graph in the dataset, and returns the class/label \n",
    "  # of the graph (in integer).\n",
    "\n",
    "  ############# Your code here ############\n",
    "  ## (~1 line of code)\n",
    "  ## Note\n",
    "  ## 1. The label refers to the graph-level attribute\n",
    "    label = dataset[idx].graph_label\n",
    "\n",
    "  #########################################\n",
    "\n",
    "    return label\n",
    "\n",
    "graph_0 = dataset[0]\n",
    "print(graph_0)\n",
    "idx = 100\n",
    "label = get_graph_class(dataset, idx)\n",
    "print('Graph with index {} has label {}'.format(idx, label))"
   ]
  },
  {
   "cell_type": "markdown",
   "metadata": {
    "id": "fKhcVeAhCwoY"
   },
   "source": [
    "## Question 2.3: What is the number of edges for the graph (index 200 in the COX2 dataset)? (5 points)\n",
    "\n",
    "Submit your answers on Gradescope."
   ]
  },
  {
   "cell_type": "code",
   "execution_count": 76,
   "metadata": {
    "id": "f5m2DOfhBtWv"
   },
   "outputs": [
    {
     "name": "stdout",
     "output_type": "stream",
     "text": [
      "Graph with index 200 has 49 edges\n"
     ]
    }
   ],
   "source": [
    "def get_graph_num_edges(dataset, idx):\n",
    "  # TODO: Implement this function that takes a deepsnap dataset object,\n",
    "  # the index of the graph in dataset, and returns the number of \n",
    "  # edges in the graph (in integer).\n",
    "\n",
    "\n",
    "  ############# Your code here ############\n",
    "  ## (~1 lines of code)\n",
    "  ## Note\n",
    "  ## 1. You can use the class property directly\n",
    "\n",
    "    num_edges = dataset[idx].num_edges\n",
    "  #########################################\n",
    "\n",
    "    return num_edges\n",
    "\n",
    "idx = 200\n",
    "num_edges = get_graph_num_edges(dataset, idx)\n",
    "print('Graph with index {} has {} edges'.format(idx, num_edges))"
   ]
  },
  {
   "cell_type": "markdown",
   "metadata": {
    "id": "AXa7yIG4E0Fp"
   },
   "source": [
    "# 3 DeepSNAP Advanced\n",
    "\n",
    "We have learned the basic use of DeepSNAP graph and dataset :)\n",
    "\n",
    "Lets move on to some more advanced functionalities.\n",
    "\n",
    "In this section we will use DeepSNAP for feature computation and transductive/inductive splittings."
   ]
  },
  {
   "cell_type": "markdown",
   "metadata": {
    "id": "Y5fsGBLY8cxa"
   },
   "source": [
    "## Setup"
   ]
  },
  {
   "cell_type": "code",
   "execution_count": 77,
   "metadata": {
    "id": "g-jgRLiQ8cSj"
   },
   "outputs": [],
   "source": [
    "import torch\n",
    "import networkx as nx\n",
    "import matplotlib.pyplot as plt\n",
    "\n",
    "from deepsnap.graph import Graph\n",
    "from deepsnap.batch import Batch\n",
    "from deepsnap.dataset import GraphDataset\n",
    "from torch_geometric.datasets import Planetoid, TUDataset\n",
    "\n",
    "from torch.utils.data import DataLoader"
   ]
  },
  {
   "cell_type": "markdown",
   "metadata": {
    "id": "HnazPGGAJAZN"
   },
   "source": [
    "## Data Split in Graphs\n",
    "\n",
    "Data splitting in graphs can be much harder than that in CV or NLP.\n",
    "\n",
    "In general, the data splitting in graphs can be divided into two settings, **inductive** and **transductive**."
   ]
  },
  {
   "cell_type": "markdown",
   "metadata": {
    "id": "l9KG_MhqsWBp"
   },
   "source": [
    "## Inductive Split\n",
    "\n",
    "As what we have learned in the lecture, inductive setting will split multiple graphs into each training/valiation and test sets.\n",
    "\n",
    "Here is an example of DeepSNAP inductive splitting for a list of graphs in the graph level task (graph classification etc.)"
   ]
  },
  {
   "cell_type": "code",
   "execution_count": 78,
   "metadata": {
    "id": "Gpc6bTm3GF02"
   },
   "outputs": [
    {
     "name": "stdout",
     "output_type": "stream",
     "text": [
      "COX2 train dataset: GraphDataset(373)\n",
      "COX2 validation dataset: GraphDataset(46)\n",
      "COX2 test dataset: GraphDataset(48)\n"
     ]
    }
   ],
   "source": [
    "root = './tmp/cox2'\n",
    "name = 'COX2'\n",
    "\n",
    "pyg_dataset = TUDataset(root, name)\n",
    "\n",
    "graphs = GraphDataset.pyg_to_graphs(pyg_dataset)\n",
    "\n",
    "# Here we specify the task as graph-level task such as graph classification\n",
    "task = 'graph'\n",
    "dataset = GraphDataset(graphs, task=task)\n",
    "\n",
    "# Specify transductive=False (inductive)\n",
    "dataset_train, dataset_val, dataset_test = dataset.split(transductive=False, split_ratio=[0.8, 0.1, 0.1])\n",
    "\n",
    "print(\"COX2 train dataset: {}\".format(dataset_train))\n",
    "print(\"COX2 validation dataset: {}\".format(dataset_val))\n",
    "print(\"COX2 test dataset: {}\".format(dataset_test))"
   ]
  },
  {
   "cell_type": "markdown",
   "metadata": {
    "id": "yWKQwa4WsgQp"
   },
   "source": [
    "## Transductive Split\n",
    "\n",
    "In transductive setting, the training /validation / test sets are on the same graph.\n",
    "\n",
    "Here we transductively split the CORA graph in the node level task. \n",
    "\n",
    "(Notice that in DeepSNAP default setting the split is random, but you can also make a fixed split by specifying `fixed_split=True` when loading the dataset from PyG or changing the `node_label_index` directly)."
   ]
  },
  {
   "cell_type": "code",
   "execution_count": 79,
   "metadata": {
    "id": "b5OdxSg4sfyR"
   },
   "outputs": [
    {
     "name": "stdout",
     "output_type": "stream",
     "text": [
      "Cora train dataset: GraphDataset(1)\n",
      "Cora validation dataset: GraphDataset(1)\n",
      "Cora test dataset: GraphDataset(1)\n",
      "Original Cora has 2708 nodes\n",
      "After the split, Cora has 2166 training nodes\n",
      "After the split, Cora has 270 validation nodes\n",
      "After the split, Cora has 272 test nodes\n"
     ]
    }
   ],
   "source": [
    "root = './tmp/cora'\n",
    "name = 'Cora'\n",
    "\n",
    "pyg_dataset = Planetoid(root, name)\n",
    "\n",
    "graphs = GraphDataset.pyg_to_graphs(pyg_dataset)\n",
    "\n",
    "# Here we specify the task as node-level task such as node classification\n",
    "task = 'node'\n",
    "\n",
    "dataset = GraphDataset(graphs, task=task)\n",
    "\n",
    "# Specify we want the transductive splitting\n",
    "dataset_train, dataset_val, dataset_test = dataset.split(transductive=True, split_ratio=[0.8, 0.1, 0.1])\n",
    "\n",
    "print(\"Cora train dataset: {}\".format(dataset_train))\n",
    "print(\"Cora validation dataset: {}\".format(dataset_val))\n",
    "print(\"Cora test dataset: {}\".format(dataset_test))\n",
    "\n",
    "print(\"Original Cora has {} nodes\".format(dataset.num_nodes[0]))\n",
    "\n",
    "# The nodes in each set can be find in node_label_index\n",
    "print(\"After the split, Cora has {} training nodes\".format(dataset_train[0].node_label_index.shape[0]))\n",
    "print(\"After the split, Cora has {} validation nodes\".format(dataset_val[0].node_label_index.shape[0]))\n",
    "print(\"After the split, Cora has {} test nodes\".format(dataset_test[0].node_label_index.shape[0]))"
   ]
  },
  {
   "cell_type": "markdown",
   "metadata": {
    "id": "d7ePKgM00lGE"
   },
   "source": [
    "## Edge Level Split\n",
    "\n",
    "Compared to the node and graph level splitting, edge level splitting is a little bit tricky ;)\n",
    "\n",
    "Usually in edge level splitting, we need to sample negative edges, split positive edges into different datasets, split training edges into message passing edges and supervision edges, and resample the negative edges during the training etc."
   ]
  },
  {
   "cell_type": "markdown",
   "metadata": {
    "id": "SnzISX5RoiR6"
   },
   "source": [
    "### All Mode\n",
    "\n",
    "Now lets start with a simpler edge level splitting mode, the `edge_train_mode=\"all\"` mode in DeepSNAP."
   ]
  },
  {
   "cell_type": "code",
   "execution_count": 80,
   "metadata": {
    "id": "_D104xO6137n"
   },
   "outputs": [
    {
     "name": "stdout",
     "output_type": "stream",
     "text": [
      "Cora train dataset: GraphDataset(1)\n",
      "Cora validation dataset: GraphDataset(1)\n",
      "Cora test dataset: GraphDataset(1)\n"
     ]
    },
    {
     "name": "stderr",
     "output_type": "stream",
     "text": [
      "/opt/anaconda3/envs/graphml/lib/python3.8/site-packages/torch/_tensor.py:575: UserWarning: floor_divide is deprecated, and will be removed in a future version of pytorch. It currently rounds toward 0 (like the 'trunc' function NOT 'floor'). This results in incorrect rounding for negative values.\n",
      "To keep the current behavior, use torch.div(a, b, rounding_mode='trunc'), or for actual floor division, use torch.div(a, b, rounding_mode='floor'). (Triggered internally at  /Users/distiller/project/conda/conda-bld/pytorch_1623459044803/work/aten/src/ATen/native/BinaryOps.cpp:467.)\n",
      "  return torch.floor_divide(self, other)\n"
     ]
    }
   ],
   "source": [
    "root = './tmp/cora'\n",
    "name = 'Cora'\n",
    "\n",
    "pyg_dataset = Planetoid(root, name)\n",
    "\n",
    "graphs = GraphDataset.pyg_to_graphs(pyg_dataset)\n",
    "\n",
    "# Specify task as link_pred for edge-level task\n",
    "task = 'link_pred'\n",
    "\n",
    "# Specify the train mode, \"all\" mode is default for deepsnap dataset\n",
    "edge_train_mode = \"all\"\n",
    "\n",
    "dataset = GraphDataset(graphs, task=task, edge_train_mode=edge_train_mode)\n",
    "\n",
    "# Transductive link prediction split\n",
    "dataset_train, dataset_val, dataset_test = dataset.split(transductive=True, split_ratio=[0.8, 0.1, 0.1])\n",
    "\n",
    "print(\"Cora train dataset: {}\".format(dataset_train))\n",
    "print(\"Cora validation dataset: {}\".format(dataset_val))\n",
    "print(\"Cora test dataset: {}\".format(dataset_test))"
   ]
  },
  {
   "cell_type": "markdown",
   "metadata": {
    "id": "GscopwOXC_Y7"
   },
   "source": [
    "In DeepSNAP, the indices of supervision edges are stored in `edge_label_index` tensor and the corresponding edge labels are stored in `edge_label` tensor."
   ]
  },
  {
   "cell_type": "code",
   "execution_count": 81,
   "metadata": {
    "id": "XJF8fZnA2eLR"
   },
   "outputs": [
    {
     "name": "stdout",
     "output_type": "stream",
     "text": [
      "Original Cora graph has 5278 edges\n",
      "Because Cora graph is undirected, the original edge_index has shape torch.Size([2, 10556])\n",
      "The training set has message passing edge index shape torch.Size([2, 8444])\n",
      "The training set has supervision edge index shape torch.Size([2, 16888])\n",
      "The validation set has message passing edge index shape torch.Size([2, 8444])\n",
      "The validation set has supervision edge index shape torch.Size([2, 2108])\n",
      "The test set has message passing edge index shape torch.Size([2, 9498])\n",
      "The test set has supervision edge index shape torch.Size([2, 2116])\n"
     ]
    }
   ],
   "source": [
    "print(\"Original Cora graph has {} edges\".format(dataset[0].num_edges))\n",
    "print(\"Because Cora graph is undirected, the original edge_index has shape {}\".format(dataset[0].edge_index.shape))\n",
    "\n",
    "print(\"The training set has message passing edge index shape {}\".format(dataset_train[0].edge_index.shape))\n",
    "print(\"The training set has supervision edge index shape {}\".format(dataset_train[0].edge_label_index.shape))\n",
    "\n",
    "print(\"The validation set has message passing edge index shape {}\".format(dataset_val[0].edge_index.shape))\n",
    "print(\"The validation set has supervision edge index shape {}\".format(dataset_val[0].edge_label_index.shape))\n",
    "\n",
    "print(\"The test set has message passing edge index shape {}\".format(dataset_test[0].edge_index.shape))\n",
    "print(\"The test set has supervision edge index shape {}\".format(dataset_test[0].edge_label_index.shape))"
   ]
  },
  {
   "cell_type": "markdown",
   "metadata": {
    "id": "s6BX-I_oEKQX"
   },
   "source": [
    "We can see that both training and validation sets have the same message passing edges (`edge_index`) in the `all` mode. Also, in training set, the postive supervision edges (`edge_label_index`) are same with the message passing edges. However, in the test set the message passing edges are the combination of message passing edges from training and validation sets.\n",
    "\n",
    "Notice that the `edge_label` and `edge_label_index` have included the negative edges (default number of negative edges is same with the number of positive edges).\n",
    "\n",
    "Now, lets implement a function that checks whether two edge index tensors are disjoint and explore more edge splitting properties by using that function."
   ]
  },
  {
   "cell_type": "markdown",
   "metadata": {
    "id": "YOZHDskbAKN6"
   },
   "source": [
    "## Question 3.1 - 3.5: Implement the function that checks whether two edge_index tensors are disjoint. Then answer the True/False questions below. (5 points)\n",
    "\n",
    "Submit your answers on Gradescope."
   ]
  },
  {
   "cell_type": "code",
   "execution_count": 160,
   "metadata": {
    "id": "wgRYdyPp8EmO"
   },
   "outputs": [],
   "source": [
    "def edge_indices_disjoint(edge_index_1, edge_index_2):\n",
    "  # TODO: Implement this function that takes two edge index tensors,\n",
    "  # and returns whether these two edge index tensors are disjoint.\n",
    "\n",
    "  ############# Your code here ############\n",
    "  ## (~5 lines of code)\n",
    "  ## Note\n",
    "  ## 1. Here disjoint means that there is no single edge belongs to either edge index tensors\n",
    "  ## 2. You do not need to consider the undirected case. For example, if edge_index_1 contains\n",
    "  ## edge (a, b) and edge_index_2 contains edge (b, a). We will treat them as disjoint in this\n",
    "  ## function.\n",
    "    edges1_set = set([tuple(i.tolist()) for i in dataset[0].edge_index.T]) # set of tuples\n",
    "    edges2 = edge_index_2.T\n",
    "    disjoint = True\n",
    "    for edge in edges2:\n",
    "        edge = tuple(edge.tolist()) # convert to edge\n",
    "        if edge in edges1_set:\n",
    "            disjoint = False\n",
    "            break\n",
    "\n",
    "  #########################################\n",
    "\n",
    "    return disjoint"
   ]
  },
  {
   "cell_type": "code",
   "execution_count": 161,
   "metadata": {
    "id": "EL4ASIDDEIUf"
   },
   "outputs": [
    {
     "name": "stdout",
     "output_type": "stream",
     "text": [
      "3.1 Training (supervision) positve and negative edges are disjoint = False\n",
      "3.2 Validation (supervision) positve and negative edges are disjoint = True\n",
      "3.3 Test (supervision) positve and negative edges are disjoint = True\n",
      "3.4 Test (supervision) positve and validation (supervision) positve edges are disjoint = False\n",
      "3.5 Validation (supervision) positve and training (supervision) positve edges are disjoint = False\n"
     ]
    }
   ],
   "source": [
    "num_train_edges = dataset_train[0].edge_label_index.shape[1] // 2\n",
    "train_pos_edge_index = dataset_train[0].edge_label_index[:, :num_train_edges]\n",
    "train_neg_edge_index = dataset_train[0].edge_label_index[:, num_train_edges:]\n",
    "print(\"3.1 Training (supervision) positve and negative edges are disjoint = {}\"\\\n",
    "        .format(edge_indices_disjoint(train_pos_edge_index, train_neg_edge_index)))\n",
    "\n",
    "num_val_edges = dataset_val[0].edge_label_index.shape[1] // 2\n",
    "val_pos_edge_index = dataset_val[0].edge_label_index[:, :num_val_edges]\n",
    "val_neg_edge_index = dataset_val[0].edge_label_index[:, num_val_edges:]\n",
    "print(\"3.2 Validation (supervision) positve and negative edges are disjoint = {}\"\\\n",
    "        .format(edge_indices_disjoint(val_pos_edge_index, val_neg_edge_index)))\n",
    "\n",
    "num_test_edges = dataset_test[0].edge_label_index.shape[1] // 2\n",
    "test_pos_edge_index = dataset_test[0].edge_label_index[:, :num_test_edges]\n",
    "test_neg_edge_index = dataset_test[0].edge_label_index[:, num_test_edges:]\n",
    "print(\"3.3 Test (supervision) positve and negative edges are disjoint = {}\"\\\n",
    "        .format(edge_indices_disjoint(test_pos_edge_index, test_neg_edge_index)))\n",
    "\n",
    "print(\"3.4 Test (supervision) positve and validation (supervision) positve edges are disjoint = {}\"\\\n",
    "        .format(edge_indices_disjoint(test_pos_edge_index, val_pos_edge_index)))\n",
    "print(\"3.5 Validation (supervision) positve and training (supervision) positve edges are disjoint = {}\"\\\n",
    "        .format(edge_indices_disjoint(val_pos_edge_index, train_pos_edge_index)))"
   ]
  },
  {
   "cell_type": "markdown",
   "metadata": {
    "id": "8jLoVN5ZBTuA"
   },
   "source": [
    "### Disjoint Mode\n",
    "\n",
    "Now lets look at a relatively more complex transductive edge split setting, which is the `edge_train_mode=\"disjoint\"` mode in DeepSNAP (also the transductive link prediction splitting talked in the lecture)"
   ]
  },
  {
   "cell_type": "code",
   "execution_count": 164,
   "metadata": {
    "id": "3Rqzfb-0BTBm"
   },
   "outputs": [
    {
     "name": "stdout",
     "output_type": "stream",
     "text": [
      "The edge index of original graph has shape: torch.Size([2, 10556])\n",
      "The edge index of training message edges has shape: torch.Size([2, 6754])\n",
      "The edge index of training supervision edges has shape: torch.Size([2, 3380])\n",
      "The edge index of validation message edges has shape: torch.Size([2, 8444])\n",
      "The edge index of validation supervision edges has shape: torch.Size([2, 2108])\n",
      "The edge index of test message edges has shape: torch.Size([2, 9498])\n",
      "The edge index of test supervision edges has shape: torch.Size([2, 2116])\n"
     ]
    }
   ],
   "source": [
    "edge_train_mode = \"disjoint\"\n",
    "\n",
    "dataset = GraphDataset(graphs, task='link_pred', edge_train_mode=edge_train_mode)\n",
    "orig_edge_index = dataset[0].edge_index\n",
    "dataset_train, dataset_val, dataset_test = dataset.split(\n",
    "    transductive=True, split_ratio=[0.8, 0.1, 0.1])\n",
    "\n",
    "train_message_edge_index = dataset_train[0].edge_index\n",
    "train_sup_edge_index = dataset_train[0].edge_label_index\n",
    "val_sup_edge_index = dataset_val[0].edge_label_index\n",
    "test_sup_edge_index = dataset_test[0].edge_label_index\n",
    "\n",
    "print(\"The edge index of original graph has shape: {}\".format(orig_edge_index.shape))\n",
    "print(\"The edge index of training message edges has shape: {}\".format(train_message_edge_index.shape))\n",
    "print(\"The edge index of training supervision edges has shape: {}\".format(train_sup_edge_index.shape))\n",
    "print(\"The edge index of validation message edges has shape: {}\".format(dataset_val[0].edge_index.shape))\n",
    "print(\"The edge index of validation supervision edges has shape: {}\".format(val_sup_edge_index.shape))\n",
    "print(\"The edge index of test message edges has shape: {}\".format(dataset_test[0].edge_index.shape))\n",
    "print(\"The edge index of test supervision edges has shape: {}\".format(test_sup_edge_index.shape))"
   ]
  },
  {
   "cell_type": "markdown",
   "metadata": {
    "id": "TUkBhiJNciol"
   },
   "source": [
    "You can see that the training / validation message passing edges and training supervision edges are splitted differently in those two modes!"
   ]
  },
  {
   "cell_type": "markdown",
   "metadata": {
    "id": "2WKfRjqAJHtK"
   },
   "source": [
    "### Resample Negative Edges\n",
    "\n",
    "During each training iteration, we usually need to resample the negative edges.\n",
    "\n",
    "Below we print the training and validation sets negative edges in two training iterations.\n",
    "\n",
    "You should find that the negative edges in training set will be resampled."
   ]
  },
  {
   "cell_type": "code",
   "execution_count": 165,
   "metadata": {
    "id": "AMEbnx63JHWj"
   },
   "outputs": [
    {
     "name": "stdout",
     "output_type": "stream",
     "text": [
      "First iteration training negative edges:\n",
      "tensor([[2335, 2158,  405,  ..., 2377,  823, 1097],\n",
      "        [1862, 1190, 1261,  ...,  712,   10, 1424]])\n",
      "Second iteration training negative edges:\n",
      "tensor([[1306,  148, 2240,  ..., 1957,  708, 2432],\n",
      "        [1979, 1355, 2509,  ..., 1266,  232,  973]])\n",
      "First iteration validation negative edges:\n",
      "tensor([[2518,    3, 2539,  ..., 1931, 1173, 1609],\n",
      "        [ 479, 2664,  970,  ..., 1222, 2607,  509]])\n",
      "Second iteration validation negative edges:\n",
      "tensor([[2518,    3, 2539,  ..., 1931, 1173, 1609],\n",
      "        [ 479, 2664,  970,  ..., 1222, 2607,  509]])\n"
     ]
    }
   ],
   "source": [
    "dataset = GraphDataset(graphs, task='link_pred', edge_train_mode=\"disjoint\")\n",
    "datasets = {}\n",
    "follow_batch = []\n",
    "datasets['train'], datasets['val'], datasets['test'] = dataset.split(\n",
    "    transductive=True, split_ratio=[0.8, 0.1, 0.1])\n",
    "dataloaders = {\n",
    "  split: DataLoader(\n",
    "    ds, collate_fn=Batch.collate(follow_batch),\n",
    "    batch_size=1, shuffle=(split=='train')\n",
    "  )\n",
    "  for split, ds in datasets.items()\n",
    "}\n",
    "neg_edges_1 = None\n",
    "for batch in dataloaders['train']:\n",
    "  num_edges = batch.edge_label_index.shape[1] // 2\n",
    "  neg_edges_1 = batch.edge_label_index[:, num_edges:]\n",
    "  print(\"First iteration training negative edges:\")\n",
    "  print(neg_edges_1)\n",
    "  break\n",
    "neg_edges_2 = None\n",
    "for batch in dataloaders['train']:\n",
    "  num_edges = batch.edge_label_index.shape[1] // 2\n",
    "  neg_edges_2 = batch.edge_label_index[:, num_edges:]\n",
    "  print(\"Second iteration training negative edges:\")\n",
    "  print(neg_edges_2)\n",
    "  break\n",
    "\n",
    "neg_edges_1 = None\n",
    "for batch in dataloaders['val']:\n",
    "  num_edges = batch.edge_label_index.shape[1] // 2\n",
    "  neg_edges_1 = batch.edge_label_index[:, num_edges:]\n",
    "  print(\"First iteration validation negative edges:\")\n",
    "  print(neg_edges_1)\n",
    "  break\n",
    "neg_edges_2 = None\n",
    "for batch in dataloaders['val']:\n",
    "  num_edges = batch.edge_label_index.shape[1] // 2\n",
    "  neg_edges_2 = batch.edge_label_index[:, num_edges:]\n",
    "  print(\"Second iteration validation negative edges:\")\n",
    "  print(neg_edges_2)\n",
    "  break"
   ]
  },
  {
   "cell_type": "markdown",
   "metadata": {
    "id": "DEzqh7wEdrh0"
   },
   "source": [
    "If you are interested in more graph splitting settings, please refer to the DeepSNAP dataset [documentation](https://snap.stanford.edu/deepsnap/modules/dataset.html)."
   ]
  },
  {
   "cell_type": "markdown",
   "metadata": {
    "id": "XkrYyeSUI_9_"
   },
   "source": [
    "## Graph Transformation and Feature Computation\n",
    "\n",
    "The other DeepSNAP core functionality is graph transformation / feature computation.\n",
    "\n",
    "In DeepSNAP, we divide graph transformation / feature computation into two different types. One is the transformation before training (transform the whole dataset before training directly) and another one is the transformation during training (transform batches of graphs).\n",
    "\n",
    "Here is an example that uses NetworkX back end to calculate the PageRank value and update the value to tensors before the training (transform the dataset)."
   ]
  },
  {
   "cell_type": "code",
   "execution_count": 166,
   "metadata": {
    "id": "gnAVbZINLZ4I"
   },
   "outputs": [
    {
     "name": "stdout",
     "output_type": "stream",
     "text": [
      "Number of features before transformation: 35\n",
      "Number of features after transformation: 36\n"
     ]
    }
   ],
   "source": [
    "def pagerank_transform_fn(graph):\n",
    "\n",
    "  # Get the referenced networkx graph\n",
    "  G = graph.G\n",
    "\n",
    "  # Calculate the pagerank by using networkx\n",
    "  pr = nx.pagerank(G)\n",
    "\n",
    "  # Transform the pagerank values to tensor\n",
    "  pr_feature = torch.tensor([pr[node] for node in range(graph.num_nodes)], dtype=torch.float32)\n",
    "  pr_feature = pr_feature.view(graph.num_nodes, 1)\n",
    "\n",
    "  # Concat the pagerank values to the node feature\n",
    "  graph.node_feature = torch.cat([graph.node_feature, pr_feature], dim=-1)\n",
    "\n",
    "root = './tmp/cox2'\n",
    "name = 'COX2'\n",
    "pyg_dataset = TUDataset(root, name)\n",
    "graphs = GraphDataset.pyg_to_graphs(pyg_dataset)\n",
    "dataset = GraphDataset(graphs, task='graph')\n",
    "print(\"Number of features before transformation: {}\".format(dataset.num_node_features))\n",
    "dataset.apply_transform(pagerank_transform_fn, update_tensor=False)\n",
    "print(\"Number of features after transformation: {}\".format(dataset.num_node_features))"
   ]
  },
  {
   "cell_type": "markdown",
   "metadata": {
    "id": "LHByE87SQkUw"
   },
   "source": [
    "## Question 3.6: Implement the transformation below and report the clustering coefficient of the node (index 3) of the graph (index 406) in the COX2 dataset. Rounded the answer to two decimal places. (5 points)"
   ]
  },
  {
   "cell_type": "code",
   "execution_count": 168,
   "metadata": {
    "id": "RNEjfOZRNjYb"
   },
   "outputs": [
    {
     "name": "stdout",
     "output_type": "stream",
     "text": [
      "The node has clustering coefficient: 0.17\n"
     ]
    }
   ],
   "source": [
    "def cluster_transform_fn(graph):\n",
    "  # TODO: Implement this function that takes an deepsnap graph object,\n",
    "  # transform the graph by adding nodes clustering coefficient into the \n",
    "  # graph.node_feature\n",
    "\n",
    "  ############# Your code here ############\n",
    "  ## (~5 lines of code)\n",
    "  ## Note\n",
    "  ## 1. Compute the clustering coefficient value for each node and\n",
    "  ## concat them to the last dimension of graph.node_feature\n",
    "    \n",
    "    G = graph.G # Get the referenced networkx graph\n",
    "    cc = nx.algorithms.cluster.clustering(G) # Compute the clustering coefficient value for each node\n",
    "    # Transform the pagerank values to tensor\n",
    "    cc_feature = torch.tensor([cc[node] for node in range(graph.num_nodes)], dtype=torch.float32)\n",
    "    cc_feature = cc_feature.view(graph.num_nodes, 1)\n",
    "    # Concat the pagerank values to the node feature\n",
    "    graph.node_feature = torch.cat([graph.node_feature, cc_feature], dim=-1)\n",
    "\n",
    "  #########################################\n",
    "\n",
    "root = './cox2'\n",
    "name = 'COX2'\n",
    "pyg_dataset = TUDataset(root, name)\n",
    "graphs = GraphDataset.pyg_to_graphs(pyg_dataset)\n",
    "dataset = GraphDataset(graphs, task='graph')\n",
    "\n",
    "# Transform the dataset\n",
    "dataset.apply_transform(cluster_transform_fn, update_tensor=False)\n",
    "\n",
    "node_idx = 3\n",
    "graph_idx = 406\n",
    "node_feature = dataset[graph_idx].node_feature\n",
    "\n",
    "print(\"The node has clustering coefficient: {}\".format(round(node_feature[node_idx][-1].item(), 2)))"
   ]
  },
  {
   "cell_type": "markdown",
   "metadata": {
    "id": "4P5Ig7XaPYzp"
   },
   "source": [
    "Apart from transforming the dataset, DeepSNAP can also transform the graph (usually the `deepsnap.batch.Batch`) during each training iteration.\n",
    "\n",
    "Also, DeepSNAP supports the synchronization of the transformation between the referenced graph objects and tensor representations. For example, you can just update the NetworkX graph object in the transform function, and by specifying `update_tensor=True` the internal tensor representations will be automatically updated.\n",
    "\n",
    "For more information, please refer to the DeepSNAP [documentation](https://snap.stanford.edu/deepsnap/)."
   ]
  },
  {
   "cell_type": "markdown",
   "metadata": {
    "id": "s-YLYMLFQYqp"
   },
   "source": [
    "# 4 Edge Level Prediction\n",
    "\n",
    "From last section, we know how DeepSNAP transductive split the edges in the link prediction task.\n",
    "\n",
    "Now lets use DeepSNAP and PyG together to implement a edge level prediction (link prediction) model!"
   ]
  },
  {
   "cell_type": "code",
   "execution_count": 197,
   "metadata": {
    "id": "hrKCNtvERypQ"
   },
   "outputs": [],
   "source": [
    "import copy\n",
    "import torch\n",
    "import numpy as np\n",
    "import networkx as nx\n",
    "import matplotlib.pyplot as plt\n",
    "\n",
    "from deepsnap.graph import Graph\n",
    "from deepsnap.batch import Batch\n",
    "from deepsnap.dataset import GraphDataset\n",
    "from torch_geometric.datasets import Planetoid, TUDataset\n",
    "\n",
    "from torch.utils.data import DataLoader\n",
    "\n",
    "import torch.nn.functional as F\n",
    "from torch_geometric.nn import SAGEConv\n",
    "\n",
    "class LinkPredModel(torch.nn.Module):\n",
    "    def __init__(self, input_dim, hidden_dim, num_classes, dropout=0.2):\n",
    "        super(LinkPredModel, self).__init__()\n",
    "\n",
    "        self.conv1 = SAGEConv(input_dim, hidden_dim)\n",
    "        self.conv2 = SAGEConv(hidden_dim, num_classes)\n",
    "\n",
    "\n",
    "        ############# Your code here #############\n",
    "        ## (~1 line of code)\n",
    "        ## Note\n",
    "        ## 1. Initialize the loss function to BCEWithLogitsLoss\n",
    "        self.loss_fn = nn.BCEWithLogitsLoss()\n",
    "\n",
    "        ##########################################\n",
    "\n",
    "        self.dropout = dropout\n",
    "\n",
    "    def reset_parameters(self):\n",
    "        self.conv1.reset_parameters()\n",
    "        self.conv2.reset_parameters()\n",
    "\n",
    "    def forward(self, batch):\n",
    "        node_feature, edge_index, edge_label_index = batch.node_feature, batch.edge_index, batch.edge_label_index\n",
    "        \n",
    "        ############# Your code here #############\n",
    "        ## (~6 line of code)\n",
    "        ## Note\n",
    "        ## 1. Feed the node feature into the first conv layer\n",
    "        ## 2. Add a ReLU after the first conv layer\n",
    "        ## 3. Add dropout after the ReLU (with probability self.dropout)\n",
    "        ## 4. Feed the output to the second conv layer\n",
    "        ## 5. Select the embeddings of the source nodes and destination nodes\n",
    "        ## by using the edge_label_index and compute the similarity of each pair\n",
    "        ## by dot product\n",
    "        out = self.conv1(node_feature, edge_index)\n",
    "        act = nn.ReLU()\n",
    "        out = act(out)\n",
    "        dropout_layer = nn.Dropout(p = self.dropout)\n",
    "        out = dropout_layer(out)\n",
    "        out = self.conv2(out, edge_index)\n",
    "        \n",
    "        src_embeds = out[edge_label_index[0]] # Select embeddings of source nodes\n",
    "        dest_embeds = out[edge_label_index[1]] # Select embeddings of destination nodes\n",
    "        pred = torch.sum(src_embeds*dest_embeds, -1) # Dot product of source and destination embeddings\n",
    "        \n",
    "        ##########################################\n",
    "\n",
    "        return pred\n",
    "    \n",
    "    def loss(self, pred, link_label):\n",
    "        return self.loss_fn(pred, link_label)"
   ]
  },
  {
   "cell_type": "code",
   "execution_count": 198,
   "metadata": {
    "id": "uuKbGFOu1Ka8"
   },
   "outputs": [],
   "source": [
    "from sklearn.metrics import *\n",
    "\n",
    "def train(model, dataloaders, optimizer, args):\n",
    "    val_max = 0\n",
    "    best_model = model\n",
    "\n",
    "    for epoch in range(1, args[\"epochs\"]):\n",
    "        for i, batch in enumerate(dataloaders['train']):\n",
    "            \n",
    "            batch.to(args[\"device\"])\n",
    "\n",
    "            ############# Your code here #############\n",
    "            ## (~6 lines of code)\n",
    "            ## Note\n",
    "            ## 1. Zero grad the optimizer\n",
    "            ## 2. Compute loss and backpropagate\n",
    "            ## 3. Update the model parameters\n",
    "            optimizer.zero_grad()\n",
    "            pred = model(batch)\n",
    "            loss = model.loss(pred, batch.edge_label.float())\n",
    "            loss.backward()\n",
    "            optimizer.step()\n",
    "\n",
    "            ##########################################\n",
    "\n",
    "            log = 'Epoch: {:03d}, Train: {:.4f}, Val: {:.4f}, Test: {:.4f}, Loss: {}'\n",
    "            score_train = test(model, dataloaders['train'], args)\n",
    "            score_val = test(model, dataloaders['val'], args)\n",
    "            score_test = test(model, dataloaders['test'], args)\n",
    "\n",
    "            print(log.format(epoch, score_train, score_val, score_test, loss.item()))\n",
    "            if val_max < score_val:\n",
    "                val_max = score_val\n",
    "                best_model = copy.deepcopy(model)\n",
    "    return best_model\n",
    "\n",
    "def test(model, dataloader, args):\n",
    "    model.eval()\n",
    "\n",
    "    score = 0\n",
    "\n",
    "    ############# Your code here #############\n",
    "    ## (~5 lines of code)\n",
    "    ## Note\n",
    "    ## 1. Loop through batches in the dataloader\n",
    "    ## 2. Feed the batch to the model\n",
    "    ## 3. Feed the model output to sigmoid\n",
    "    ## 4. Compute the ROC-AUC score by using sklearn roc_auc_score function\n",
    "    ## 5. Edge labels are stored in batch.edge_label\n",
    "    \n",
    "    for i, batch in enumerate(dataloader):\n",
    "        batch.to(args[\"device\"])\n",
    "        out = model(batch)\n",
    "        sig = nn.Sigmoid()\n",
    "        pred = sig(out)\n",
    "        roc_auc = roc_auc_score(batch.edge_label.cpu().detach().numpy(), pred.cpu().detach().numpy())\n",
    "        score += roc_auc\n",
    "    score /= len(dataloader)\n",
    "    \n",
    "    ##########################################\n",
    " \n",
    "    return score"
   ]
  },
  {
   "cell_type": "code",
   "execution_count": 199,
   "metadata": {
    "id": "JTKWYX1b33V3"
   },
   "outputs": [],
   "source": [
    "# Please don't change any parameters\n",
    "args = {\n",
    "    \"device\" : 'cuda' if torch.cuda.is_available() else 'cpu',\n",
    "    \"hidden_dim\" : 128,\n",
    "    \"epochs\" : 200,\n",
    "}"
   ]
  },
  {
   "cell_type": "code",
   "execution_count": 200,
   "metadata": {
    "id": "Klw_xYnE27xQ"
   },
   "outputs": [
    {
     "name": "stdout",
     "output_type": "stream",
     "text": [
      "Epoch: 001, Train: 0.4959, Val: 0.4998, Test: 0.5014, Loss: 0.6931050419807434\n",
      "Epoch: 002, Train: 0.5000, Val: 0.4796, Test: 0.4926, Loss: 0.6930877566337585\n",
      "Epoch: 003, Train: 0.5051, Val: 0.4852, Test: 0.4785, Loss: 0.6931007504463196\n",
      "Epoch: 004, Train: 0.5013, Val: 0.4892, Test: 0.4918, Loss: 0.6931006908416748\n",
      "Epoch: 005, Train: 0.5229, Val: 0.4661, Test: 0.4821, Loss: 0.6931007504463196\n",
      "Epoch: 006, Train: 0.4995, Val: 0.4886, Test: 0.4952, Loss: 0.6930533647537231\n",
      "Epoch: 007, Train: 0.5113, Val: 0.5040, Test: 0.5010, Loss: 0.6930732131004333\n",
      "Epoch: 008, Train: 0.5107, Val: 0.4743, Test: 0.5075, Loss: 0.6930517554283142\n",
      "Epoch: 009, Train: 0.5229, Val: 0.4959, Test: 0.5092, Loss: 0.6931781768798828\n",
      "Epoch: 010, Train: 0.5316, Val: 0.4919, Test: 0.5045, Loss: 0.6930012702941895\n",
      "Epoch: 011, Train: 0.5126, Val: 0.5018, Test: 0.5057, Loss: 0.6930743455886841\n",
      "Epoch: 012, Train: 0.5432, Val: 0.5078, Test: 0.5099, Loss: 0.6929370760917664\n",
      "Epoch: 013, Train: 0.5233, Val: 0.4883, Test: 0.5182, Loss: 0.6930003762245178\n",
      "Epoch: 014, Train: 0.5356, Val: 0.4916, Test: 0.5302, Loss: 0.6930464506149292\n",
      "Epoch: 015, Train: 0.5433, Val: 0.4946, Test: 0.5206, Loss: 0.6930930614471436\n",
      "Epoch: 016, Train: 0.5435, Val: 0.4914, Test: 0.5329, Loss: 0.6930439472198486\n",
      "Epoch: 017, Train: 0.5498, Val: 0.5095, Test: 0.5294, Loss: 0.6929385662078857\n",
      "Epoch: 018, Train: 0.5309, Val: 0.5051, Test: 0.5313, Loss: 0.6929844617843628\n",
      "Epoch: 019, Train: 0.5480, Val: 0.5080, Test: 0.5069, Loss: 0.6929562091827393\n",
      "Epoch: 020, Train: 0.5348, Val: 0.4893, Test: 0.5238, Loss: 0.6927939057350159\n",
      "Epoch: 021, Train: 0.5501, Val: 0.5207, Test: 0.5399, Loss: 0.6928837299346924\n",
      "Epoch: 022, Train: 0.5535, Val: 0.5010, Test: 0.5360, Loss: 0.6928845643997192\n",
      "Epoch: 023, Train: 0.5596, Val: 0.5027, Test: 0.5310, Loss: 0.6928187012672424\n",
      "Epoch: 024, Train: 0.5664, Val: 0.5107, Test: 0.5385, Loss: 0.692776620388031\n",
      "Epoch: 025, Train: 0.5533, Val: 0.5190, Test: 0.5345, Loss: 0.6928498148918152\n",
      "Epoch: 026, Train: 0.5656, Val: 0.5181, Test: 0.5494, Loss: 0.6926847100257874\n",
      "Epoch: 027, Train: 0.5900, Val: 0.5129, Test: 0.5455, Loss: 0.6926642060279846\n",
      "Epoch: 028, Train: 0.5782, Val: 0.5210, Test: 0.5400, Loss: 0.6927023530006409\n",
      "Epoch: 029, Train: 0.5661, Val: 0.5359, Test: 0.5510, Loss: 0.6926727890968323\n",
      "Epoch: 030, Train: 0.5874, Val: 0.5276, Test: 0.5701, Loss: 0.6926027536392212\n",
      "Epoch: 031, Train: 0.5643, Val: 0.4978, Test: 0.5645, Loss: 0.6926425695419312\n",
      "Epoch: 032, Train: 0.5908, Val: 0.5035, Test: 0.5468, Loss: 0.6925761699676514\n",
      "Epoch: 033, Train: 0.5786, Val: 0.5247, Test: 0.5471, Loss: 0.6924659609794617\n",
      "Epoch: 034, Train: 0.5761, Val: 0.5195, Test: 0.5547, Loss: 0.6924364566802979\n",
      "Epoch: 035, Train: 0.5880, Val: 0.5212, Test: 0.5447, Loss: 0.6923967003822327\n",
      "Epoch: 036, Train: 0.5889, Val: 0.5164, Test: 0.5521, Loss: 0.6923322677612305\n",
      "Epoch: 037, Train: 0.5828, Val: 0.5380, Test: 0.5559, Loss: 0.6923480033874512\n",
      "Epoch: 038, Train: 0.5922, Val: 0.5416, Test: 0.5647, Loss: 0.692136824131012\n",
      "Epoch: 039, Train: 0.5752, Val: 0.5105, Test: 0.5509, Loss: 0.6922097206115723\n",
      "Epoch: 040, Train: 0.5946, Val: 0.5290, Test: 0.5748, Loss: 0.6920139789581299\n",
      "Epoch: 041, Train: 0.5917, Val: 0.5333, Test: 0.5657, Loss: 0.6920557618141174\n",
      "Epoch: 042, Train: 0.5969, Val: 0.5437, Test: 0.5685, Loss: 0.691923201084137\n",
      "Epoch: 043, Train: 0.6060, Val: 0.5267, Test: 0.5735, Loss: 0.6918907761573792\n",
      "Epoch: 044, Train: 0.5893, Val: 0.5176, Test: 0.5697, Loss: 0.6917792558670044\n",
      "Epoch: 045, Train: 0.5911, Val: 0.5402, Test: 0.5668, Loss: 0.6915826797485352\n",
      "Epoch: 046, Train: 0.6017, Val: 0.5282, Test: 0.5771, Loss: 0.6914857625961304\n",
      "Epoch: 047, Train: 0.5931, Val: 0.5318, Test: 0.5688, Loss: 0.6914345026016235\n",
      "Epoch: 048, Train: 0.5951, Val: 0.5283, Test: 0.5746, Loss: 0.6914427876472473\n",
      "Epoch: 049, Train: 0.6105, Val: 0.5380, Test: 0.5816, Loss: 0.6911876797676086\n",
      "Epoch: 050, Train: 0.5965, Val: 0.5450, Test: 0.5815, Loss: 0.6909729838371277\n",
      "Epoch: 051, Train: 0.6017, Val: 0.5361, Test: 0.5750, Loss: 0.6910715699195862\n",
      "Epoch: 052, Train: 0.6088, Val: 0.5341, Test: 0.5741, Loss: 0.6907545924186707\n",
      "Epoch: 053, Train: 0.6060, Val: 0.5308, Test: 0.5828, Loss: 0.690517783164978\n",
      "Epoch: 054, Train: 0.5999, Val: 0.5460, Test: 0.5878, Loss: 0.6897826790809631\n",
      "Epoch: 055, Train: 0.6046, Val: 0.5312, Test: 0.5833, Loss: 0.6900323033332825\n",
      "Epoch: 056, Train: 0.6037, Val: 0.5384, Test: 0.5938, Loss: 0.6896898150444031\n",
      "Epoch: 057, Train: 0.6094, Val: 0.5439, Test: 0.5881, Loss: 0.6899455785751343\n",
      "Epoch: 058, Train: 0.6133, Val: 0.5476, Test: 0.5822, Loss: 0.6893081068992615\n",
      "Epoch: 059, Train: 0.6020, Val: 0.5462, Test: 0.5811, Loss: 0.6891027688980103\n",
      "Epoch: 060, Train: 0.6154, Val: 0.5439, Test: 0.5866, Loss: 0.6886827945709229\n",
      "Epoch: 061, Train: 0.6123, Val: 0.5485, Test: 0.5868, Loss: 0.688779890537262\n",
      "Epoch: 062, Train: 0.6120, Val: 0.5508, Test: 0.5834, Loss: 0.6884769797325134\n",
      "Epoch: 063, Train: 0.6213, Val: 0.5434, Test: 0.5911, Loss: 0.6878686547279358\n",
      "Epoch: 064, Train: 0.6167, Val: 0.5507, Test: 0.5943, Loss: 0.6877044439315796\n",
      "Epoch: 065, Train: 0.6130, Val: 0.5496, Test: 0.5937, Loss: 0.6870825886726379\n",
      "Epoch: 066, Train: 0.6151, Val: 0.5539, Test: 0.5958, Loss: 0.6869663000106812\n",
      "Epoch: 067, Train: 0.6175, Val: 0.5673, Test: 0.5915, Loss: 0.6859246492385864\n",
      "Epoch: 068, Train: 0.6157, Val: 0.5554, Test: 0.6013, Loss: 0.686275839805603\n",
      "Epoch: 069, Train: 0.6151, Val: 0.5634, Test: 0.5977, Loss: 0.6852495074272156\n",
      "Epoch: 070, Train: 0.6142, Val: 0.5624, Test: 0.6023, Loss: 0.6849415302276611\n",
      "Epoch: 071, Train: 0.6301, Val: 0.5651, Test: 0.6020, Loss: 0.6842722296714783\n",
      "Epoch: 072, Train: 0.6288, Val: 0.5623, Test: 0.5987, Loss: 0.6830575466156006\n",
      "Epoch: 073, Train: 0.6264, Val: 0.5734, Test: 0.6086, Loss: 0.682217538356781\n",
      "Epoch: 074, Train: 0.6272, Val: 0.5701, Test: 0.6122, Loss: 0.6817206144332886\n",
      "Epoch: 075, Train: 0.6279, Val: 0.5773, Test: 0.6167, Loss: 0.6806234121322632\n",
      "Epoch: 076, Train: 0.6396, Val: 0.5759, Test: 0.6125, Loss: 0.6805644035339355\n",
      "Epoch: 077, Train: 0.6387, Val: 0.5708, Test: 0.6154, Loss: 0.6783478260040283\n",
      "Epoch: 078, Train: 0.6272, Val: 0.5861, Test: 0.6197, Loss: 0.6780914068222046\n",
      "Epoch: 079, Train: 0.6487, Val: 0.5855, Test: 0.6297, Loss: 0.6750813722610474\n",
      "Epoch: 080, Train: 0.6471, Val: 0.6008, Test: 0.6252, Loss: 0.6741284728050232\n",
      "Epoch: 081, Train: 0.6381, Val: 0.5978, Test: 0.6352, Loss: 0.6743873357772827\n",
      "Epoch: 082, Train: 0.6678, Val: 0.6144, Test: 0.6432, Loss: 0.6714590191841125\n",
      "Epoch: 083, Train: 0.6627, Val: 0.6166, Test: 0.6405, Loss: 0.671813428401947\n",
      "Epoch: 084, Train: 0.6701, Val: 0.6277, Test: 0.6530, Loss: 0.6669603586196899\n",
      "Epoch: 085, Train: 0.6772, Val: 0.6354, Test: 0.6638, Loss: 0.6649813055992126\n",
      "Epoch: 086, Train: 0.6871, Val: 0.6539, Test: 0.6685, Loss: 0.6648301482200623\n",
      "Epoch: 087, Train: 0.6855, Val: 0.6670, Test: 0.6796, Loss: 0.6629660129547119\n",
      "Epoch: 088, Train: 0.6976, Val: 0.6697, Test: 0.6837, Loss: 0.6591307520866394\n",
      "Epoch: 089, Train: 0.7117, Val: 0.6747, Test: 0.6918, Loss: 0.6534361243247986\n",
      "Epoch: 090, Train: 0.7213, Val: 0.6820, Test: 0.7024, Loss: 0.6530786752700806\n",
      "Epoch: 091, Train: 0.7170, Val: 0.6896, Test: 0.7046, Loss: 0.6512072086334229\n",
      "Epoch: 092, Train: 0.7178, Val: 0.6974, Test: 0.7079, Loss: 0.6490478515625\n",
      "Epoch: 093, Train: 0.7182, Val: 0.6949, Test: 0.7122, Loss: 0.6458278298377991\n",
      "Epoch: 094, Train: 0.7249, Val: 0.6967, Test: 0.7189, Loss: 0.6364357471466064\n",
      "Epoch: 095, Train: 0.7214, Val: 0.7042, Test: 0.7167, Loss: 0.6355771422386169\n",
      "Epoch: 096, Train: 0.7256, Val: 0.7026, Test: 0.7195, Loss: 0.6292740106582642\n",
      "Epoch: 097, Train: 0.7283, Val: 0.7069, Test: 0.7162, Loss: 0.6306384801864624\n",
      "Epoch: 098, Train: 0.7407, Val: 0.7108, Test: 0.7209, Loss: 0.619693398475647\n",
      "Epoch: 099, Train: 0.7368, Val: 0.7084, Test: 0.7218, Loss: 0.6191887259483337\n",
      "Epoch: 100, Train: 0.7472, Val: 0.7097, Test: 0.7152, Loss: 0.6265995502471924\n",
      "Epoch: 101, Train: 0.7287, Val: 0.7111, Test: 0.7203, Loss: 0.6088197827339172\n",
      "Epoch: 102, Train: 0.7261, Val: 0.7112, Test: 0.7235, Loss: 0.6163732409477234\n",
      "Epoch: 103, Train: 0.7481, Val: 0.7070, Test: 0.7230, Loss: 0.6214522123336792\n",
      "Epoch: 104, Train: 0.7419, Val: 0.7093, Test: 0.7235, Loss: 0.611961841583252\n"
     ]
    },
    {
     "name": "stdout",
     "output_type": "stream",
     "text": [
      "Epoch: 105, Train: 0.7412, Val: 0.7058, Test: 0.7212, Loss: 0.6229227781295776\n",
      "Epoch: 106, Train: 0.7391, Val: 0.7130, Test: 0.7224, Loss: 0.6076465249061584\n",
      "Epoch: 107, Train: 0.7439, Val: 0.7104, Test: 0.7253, Loss: 0.6114084124565125\n",
      "Epoch: 108, Train: 0.7539, Val: 0.7137, Test: 0.7245, Loss: 0.606041669845581\n",
      "Epoch: 109, Train: 0.7513, Val: 0.7222, Test: 0.7263, Loss: 0.606529712677002\n",
      "Epoch: 110, Train: 0.7540, Val: 0.7090, Test: 0.7318, Loss: 0.6158753037452698\n",
      "Epoch: 111, Train: 0.7691, Val: 0.7168, Test: 0.7315, Loss: 0.6127169132232666\n",
      "Epoch: 112, Train: 0.7629, Val: 0.7175, Test: 0.7302, Loss: 0.606864869594574\n",
      "Epoch: 113, Train: 0.7717, Val: 0.7135, Test: 0.7337, Loss: 0.5980607867240906\n",
      "Epoch: 114, Train: 0.7673, Val: 0.7212, Test: 0.7335, Loss: 0.5965309739112854\n",
      "Epoch: 115, Train: 0.7653, Val: 0.7129, Test: 0.7297, Loss: 0.5910853147506714\n",
      "Epoch: 116, Train: 0.7728, Val: 0.7218, Test: 0.7352, Loss: 0.5925649404525757\n",
      "Epoch: 117, Train: 0.7921, Val: 0.7214, Test: 0.7336, Loss: 0.5944411754608154\n",
      "Epoch: 118, Train: 0.7849, Val: 0.7210, Test: 0.7408, Loss: 0.5922532081604004\n",
      "Epoch: 119, Train: 0.7805, Val: 0.7225, Test: 0.7429, Loss: 0.5921686887741089\n",
      "Epoch: 120, Train: 0.7944, Val: 0.7180, Test: 0.7371, Loss: 0.5988046526908875\n",
      "Epoch: 121, Train: 0.7833, Val: 0.7195, Test: 0.7412, Loss: 0.5916398763656616\n",
      "Epoch: 122, Train: 0.7868, Val: 0.7222, Test: 0.7396, Loss: 0.5904841423034668\n",
      "Epoch: 123, Train: 0.7824, Val: 0.7247, Test: 0.7429, Loss: 0.5884439945220947\n",
      "Epoch: 124, Train: 0.7890, Val: 0.7237, Test: 0.7425, Loss: 0.5832549333572388\n",
      "Epoch: 125, Train: 0.7830, Val: 0.7244, Test: 0.7419, Loss: 0.5853566527366638\n",
      "Epoch: 126, Train: 0.7898, Val: 0.7293, Test: 0.7445, Loss: 0.5752370357513428\n",
      "Epoch: 127, Train: 0.7885, Val: 0.7263, Test: 0.7386, Loss: 0.5811508893966675\n",
      "Epoch: 128, Train: 0.7981, Val: 0.7278, Test: 0.7393, Loss: 0.5743772387504578\n",
      "Epoch: 129, Train: 0.7944, Val: 0.7259, Test: 0.7431, Loss: 0.5746204257011414\n",
      "Epoch: 130, Train: 0.8054, Val: 0.7198, Test: 0.7456, Loss: 0.5752019882202148\n",
      "Epoch: 131, Train: 0.8105, Val: 0.7259, Test: 0.7447, Loss: 0.573810875415802\n",
      "Epoch: 132, Train: 0.8110, Val: 0.7295, Test: 0.7447, Loss: 0.5691426992416382\n",
      "Epoch: 133, Train: 0.8067, Val: 0.7264, Test: 0.7454, Loss: 0.5790619850158691\n",
      "Epoch: 134, Train: 0.8119, Val: 0.7294, Test: 0.7497, Loss: 0.5731648206710815\n",
      "Epoch: 135, Train: 0.8115, Val: 0.7226, Test: 0.7487, Loss: 0.5608581304550171\n",
      "Epoch: 136, Train: 0.8116, Val: 0.7283, Test: 0.7441, Loss: 0.5678855776786804\n",
      "Epoch: 137, Train: 0.8309, Val: 0.7369, Test: 0.7448, Loss: 0.5726659297943115\n",
      "Epoch: 138, Train: 0.8136, Val: 0.7290, Test: 0.7475, Loss: 0.5662579536437988\n",
      "Epoch: 139, Train: 0.8361, Val: 0.7294, Test: 0.7531, Loss: 0.5600084662437439\n",
      "Epoch: 140, Train: 0.8223, Val: 0.7329, Test: 0.7452, Loss: 0.5663895010948181\n",
      "Epoch: 141, Train: 0.8202, Val: 0.7241, Test: 0.7489, Loss: 0.5560256242752075\n",
      "Epoch: 142, Train: 0.8336, Val: 0.7264, Test: 0.7497, Loss: 0.55717533826828\n",
      "Epoch: 143, Train: 0.8333, Val: 0.7338, Test: 0.7481, Loss: 0.5626861453056335\n",
      "Epoch: 144, Train: 0.8415, Val: 0.7303, Test: 0.7493, Loss: 0.5560810565948486\n",
      "Epoch: 145, Train: 0.8350, Val: 0.7364, Test: 0.7540, Loss: 0.5501795411109924\n",
      "Epoch: 146, Train: 0.8452, Val: 0.7362, Test: 0.7548, Loss: 0.5572801232337952\n",
      "Epoch: 147, Train: 0.8325, Val: 0.7364, Test: 0.7534, Loss: 0.562058687210083\n",
      "Epoch: 148, Train: 0.8472, Val: 0.7334, Test: 0.7512, Loss: 0.5546597242355347\n",
      "Epoch: 149, Train: 0.8467, Val: 0.7318, Test: 0.7527, Loss: 0.5538972616195679\n",
      "Epoch: 150, Train: 0.8547, Val: 0.7372, Test: 0.7546, Loss: 0.5482048988342285\n",
      "Epoch: 151, Train: 0.8484, Val: 0.7308, Test: 0.7570, Loss: 0.5472187995910645\n",
      "Epoch: 152, Train: 0.8572, Val: 0.7386, Test: 0.7580, Loss: 0.5532315969467163\n",
      "Epoch: 153, Train: 0.8564, Val: 0.7354, Test: 0.7591, Loss: 0.5493398308753967\n",
      "Epoch: 154, Train: 0.8515, Val: 0.7276, Test: 0.7556, Loss: 0.5411683917045593\n",
      "Epoch: 155, Train: 0.8507, Val: 0.7344, Test: 0.7633, Loss: 0.5453372001647949\n",
      "Epoch: 156, Train: 0.8598, Val: 0.7372, Test: 0.7674, Loss: 0.5314937233924866\n",
      "Epoch: 157, Train: 0.8632, Val: 0.7477, Test: 0.7666, Loss: 0.5482677221298218\n",
      "Epoch: 158, Train: 0.8674, Val: 0.7439, Test: 0.7731, Loss: 0.5362308025360107\n",
      "Epoch: 159, Train: 0.8713, Val: 0.7480, Test: 0.7718, Loss: 0.5289738774299622\n",
      "Epoch: 160, Train: 0.8665, Val: 0.7403, Test: 0.7705, Loss: 0.5340417623519897\n",
      "Epoch: 161, Train: 0.8650, Val: 0.7526, Test: 0.7773, Loss: 0.5271497368812561\n",
      "Epoch: 162, Train: 0.8696, Val: 0.7528, Test: 0.7811, Loss: 0.5325730443000793\n",
      "Epoch: 163, Train: 0.8739, Val: 0.7551, Test: 0.7761, Loss: 0.5228425860404968\n",
      "Epoch: 164, Train: 0.8783, Val: 0.7563, Test: 0.7826, Loss: 0.5256317853927612\n",
      "Epoch: 165, Train: 0.8818, Val: 0.7582, Test: 0.7852, Loss: 0.5238267779350281\n",
      "Epoch: 166, Train: 0.8778, Val: 0.7566, Test: 0.7798, Loss: 0.524431049823761\n",
      "Epoch: 167, Train: 0.8847, Val: 0.7581, Test: 0.7774, Loss: 0.5170257091522217\n",
      "Epoch: 168, Train: 0.8941, Val: 0.7566, Test: 0.7770, Loss: 0.5199007987976074\n",
      "Epoch: 169, Train: 0.8921, Val: 0.7582, Test: 0.7840, Loss: 0.5295361876487732\n",
      "Epoch: 170, Train: 0.8899, Val: 0.7618, Test: 0.7869, Loss: 0.5103216767311096\n",
      "Epoch: 171, Train: 0.8934, Val: 0.7647, Test: 0.7866, Loss: 0.5169693827629089\n",
      "Epoch: 172, Train: 0.8851, Val: 0.7607, Test: 0.7809, Loss: 0.5123693346977234\n",
      "Epoch: 173, Train: 0.8943, Val: 0.7633, Test: 0.7796, Loss: 0.5133485794067383\n",
      "Epoch: 174, Train: 0.8956, Val: 0.7565, Test: 0.7900, Loss: 0.5208277702331543\n",
      "Epoch: 175, Train: 0.8923, Val: 0.7630, Test: 0.7879, Loss: 0.5152794718742371\n",
      "Epoch: 176, Train: 0.8863, Val: 0.7662, Test: 0.7813, Loss: 0.5222713351249695\n",
      "Epoch: 177, Train: 0.8943, Val: 0.7629, Test: 0.7837, Loss: 0.5121424198150635\n",
      "Epoch: 178, Train: 0.9028, Val: 0.7644, Test: 0.7910, Loss: 0.5207410454750061\n",
      "Epoch: 179, Train: 0.8977, Val: 0.7586, Test: 0.7869, Loss: 0.5169879198074341\n",
      "Epoch: 180, Train: 0.8990, Val: 0.7685, Test: 0.7858, Loss: 0.5074281692504883\n",
      "Epoch: 181, Train: 0.9013, Val: 0.7647, Test: 0.7851, Loss: 0.5000680088996887\n",
      "Epoch: 182, Train: 0.9064, Val: 0.7677, Test: 0.7813, Loss: 0.5122735500335693\n",
      "Epoch: 183, Train: 0.9039, Val: 0.7618, Test: 0.7843, Loss: 0.504806637763977\n",
      "Epoch: 184, Train: 0.9080, Val: 0.7715, Test: 0.7845, Loss: 0.5005368590354919\n",
      "Epoch: 185, Train: 0.9040, Val: 0.7641, Test: 0.7887, Loss: 0.5100017189979553\n",
      "Epoch: 186, Train: 0.9066, Val: 0.7616, Test: 0.7850, Loss: 0.5123528838157654\n",
      "Epoch: 187, Train: 0.9092, Val: 0.7570, Test: 0.7911, Loss: 0.5097044706344604\n",
      "Epoch: 188, Train: 0.9114, Val: 0.7618, Test: 0.7885, Loss: 0.4989662766456604\n",
      "Epoch: 189, Train: 0.9139, Val: 0.7574, Test: 0.7903, Loss: 0.4882710874080658\n",
      "Epoch: 190, Train: 0.9228, Val: 0.7602, Test: 0.7828, Loss: 0.5068607926368713\n",
      "Epoch: 191, Train: 0.9136, Val: 0.7617, Test: 0.7861, Loss: 0.5019643306732178\n",
      "Epoch: 192, Train: 0.9163, Val: 0.7633, Test: 0.7837, Loss: 0.4858396053314209\n",
      "Epoch: 193, Train: 0.9129, Val: 0.7571, Test: 0.7913, Loss: 0.49478989839553833\n",
      "Epoch: 194, Train: 0.9106, Val: 0.7608, Test: 0.7898, Loss: 0.490153968334198\n",
      "Epoch: 195, Train: 0.9213, Val: 0.7567, Test: 0.7883, Loss: 0.49882274866104126\n",
      "Epoch: 196, Train: 0.9188, Val: 0.7558, Test: 0.7886, Loss: 0.4917614758014679\n",
      "Epoch: 197, Train: 0.9177, Val: 0.7663, Test: 0.7909, Loss: 0.4937033951282501\n",
      "Epoch: 198, Train: 0.9177, Val: 0.7628, Test: 0.7914, Loss: 0.49050572514533997\n",
      "Epoch: 199, Train: 0.9168, Val: 0.7660, Test: 0.7903, Loss: 0.49665284156799316\n",
      "Train: 0.9020, Val: 0.7628, Test: 0.7837\n"
     ]
    }
   ],
   "source": [
    "pyg_dataset = Planetoid('./tmp/cora', 'Cora')\n",
    "graphs = GraphDataset.pyg_to_graphs(pyg_dataset)\n",
    "\n",
    "dataset = GraphDataset(\n",
    "        graphs,\n",
    "        task='link_pred',\n",
    "        edge_train_mode=\"disjoint\"\n",
    "    )\n",
    "datasets = {}\n",
    "datasets['train'], datasets['val'], datasets['test']= dataset.split(\n",
    "            transductive=True, split_ratio=[0.85, 0.05, 0.1])\n",
    "input_dim = datasets['train'].num_node_features\n",
    "num_classes = datasets['train'].num_edge_labels\n",
    "\n",
    "model = LinkPredModel(input_dim, args[\"hidden_dim\"], num_classes).to(args[\"device\"])\n",
    "model.reset_parameters()\n",
    "\n",
    "optimizer = torch.optim.SGD(model.parameters(), lr=0.1, momentum=0.9, weight_decay=5e-4)\n",
    "\n",
    "dataloaders = {split: DataLoader(\n",
    "            ds, collate_fn=Batch.collate([]),\n",
    "            batch_size=1, shuffle=(split=='train'))\n",
    "            for split, ds in datasets.items()}\n",
    "best_model = train(model, dataloaders, optimizer, args)\n",
    "log = \"Train: {:.4f}, Val: {:.4f}, Test: {:.4f}\"\n",
    "best_train_roc = test(best_model, dataloaders['train'], args)\n",
    "best_val_roc = test(best_model, dataloaders['val'], args)\n",
    "best_test_roc = test(best_model, dataloaders['test'], args)\n",
    "print(log.format(best_train_roc, best_val_roc, best_test_roc))"
   ]
  },
  {
   "cell_type": "markdown",
   "metadata": {
    "id": "j5brlsKElP0_"
   },
   "source": [
    "## Question 4: What is the maximum ROC-AUC score you could get for the best_model on test set? (13 points)\n",
    "\n",
    "Submit your answers on Gradescope."
   ]
  },
  {
   "cell_type": "markdown",
   "metadata": {
    "id": "e7JXsMTBgeOI"
   },
   "source": [
    "# Submission\n",
    "\n",
    "In order to get credit, you must go submit your answers on Gradescope.\n",
    "\n",
    "Also, you need to submit the `ipynb` file of Colab 3, by clicking `File` and `Download .ipynb`. Please make sure that your output of each cell is available in your `ipynb` file."
   ]
  }
 ],
 "metadata": {
  "accelerator": "GPU",
  "colab": {
   "collapsed_sections": [],
   "machine_shape": "hm",
   "name": "CS224W - Colab 3.ipynb",
   "provenance": [],
   "toc_visible": true
  },
  "kernelspec": {
   "display_name": "graphml",
   "language": "python",
   "name": "graphml"
  },
  "language_info": {
   "codemirror_mode": {
    "name": "ipython",
    "version": 3
   },
   "file_extension": ".py",
   "mimetype": "text/x-python",
   "name": "python",
   "nbconvert_exporter": "python",
   "pygments_lexer": "ipython3",
   "version": "3.8.5"
  }
 },
 "nbformat": 4,
 "nbformat_minor": 1
}
