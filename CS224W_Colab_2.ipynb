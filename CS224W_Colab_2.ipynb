{
 "cells": [
  {
   "cell_type": "markdown",
   "metadata": {
    "id": "XuXWJLEm2UWS"
   },
   "source": [
    "# **CS224W - Colab 2**"
   ]
  },
  {
   "cell_type": "markdown",
   "metadata": {
    "id": "8gzsP50bF6Gb"
   },
   "source": [
    "In this Colab, we will construct our own graph neural network by using PyTorch Geometric (PyG) and apply the model on two of Open Graph Benchmark (OGB) datasets. Those two datasets are used to benchmark the model performance on two different graph-related tasks. One is node property prediction, predicting properties of single nodes. Another one is graph property prediction, predicting the entire graphs or subgraphs.\n",
    "\n",
    "At first, we will learn how PyTorch Geometric stores the graphs in PyTorch tensor.\n",
    "\n",
    "We will then load and take a quick look on one of the Open Graph Benchmark (OGB) datasets by using the `ogb` package. OGB is a collection of realistic, large-scale, and diverse benchmark datasets for machine learning on graphs. The `ogb` package not only provides the data loader of the dataset but also the evaluator.\n",
    "\n",
    "At last, we will build our own graph neural networks by using PyTorch Geometric. And then apply and evaluate the models on node property prediction and grpah property prediction tasks.\n",
    "\n",
    "**Note**: Make sure to **sequentially run all the cells in each section**, so that the intermediate variables / packages will carry over to the next cell\n",
    "\n",
    "Have fun on Colab 2 :)"
   ]
  },
  {
   "cell_type": "markdown",
   "metadata": {
    "id": "ZGKqVEbbMEzf"
   },
   "source": [
    "# Device\n",
    "You might need to use GPU for this Colab.\n",
    "\n",
    "Please click `Runtime` and then `Change runtime type`. Then set the `hardware accelerator` to **GPU**."
   ]
  },
  {
   "cell_type": "markdown",
   "metadata": {
    "id": "B0NiFL6OLpaJ"
   },
   "source": [
    "# Installation"
   ]
  },
  {
   "cell_type": "code",
   "execution_count": 57,
   "metadata": {
    "id": "By2oyBw7Lrh5"
   },
   "outputs": [
    {
     "name": "stdout",
     "output_type": "stream",
     "text": [
      "Requirement already satisfied: ogb in /opt/anaconda3/lib/python3.8/site-packages (1.3.1)\n",
      "Requirement already satisfied: torch>=1.6.0 in /opt/anaconda3/lib/python3.8/site-packages (from ogb) (1.9.0)\n",
      "Requirement already satisfied: outdated>=0.2.0 in /opt/anaconda3/lib/python3.8/site-packages (from ogb) (0.2.1)\n",
      "Requirement already satisfied: six>=1.12.0 in /opt/anaconda3/lib/python3.8/site-packages (from ogb) (1.15.0)\n",
      "Requirement already satisfied: numpy>=1.16.0 in /opt/anaconda3/lib/python3.8/site-packages (from ogb) (1.19.2)\n",
      "Requirement already satisfied: tqdm>=4.29.0 in /opt/anaconda3/lib/python3.8/site-packages (from ogb) (4.50.2)\n",
      "Requirement already satisfied: urllib3>=1.24.0 in /opt/anaconda3/lib/python3.8/site-packages (from ogb) (1.25.11)\n",
      "Requirement already satisfied: pandas>=0.24.0 in /opt/anaconda3/lib/python3.8/site-packages (from ogb) (1.1.3)\n",
      "Requirement already satisfied: scikit-learn>=0.20.0 in /opt/anaconda3/lib/python3.8/site-packages (from ogb) (0.23.2)\n",
      "Requirement already satisfied: typing-extensions in /opt/anaconda3/lib/python3.8/site-packages (from torch>=1.6.0->ogb) (3.7.4.3)\n",
      "Requirement already satisfied: littleutils in /opt/anaconda3/lib/python3.8/site-packages (from outdated>=0.2.0->ogb) (0.2.2)\n",
      "Requirement already satisfied: requests in /opt/anaconda3/lib/python3.8/site-packages (from outdated>=0.2.0->ogb) (2.24.0)\n",
      "Requirement already satisfied: python-dateutil>=2.7.3 in /opt/anaconda3/lib/python3.8/site-packages (from pandas>=0.24.0->ogb) (2.8.1)\n",
      "Requirement already satisfied: pytz>=2017.2 in /opt/anaconda3/lib/python3.8/site-packages (from pandas>=0.24.0->ogb) (2020.1)\n",
      "Requirement already satisfied: scipy>=0.19.1 in /opt/anaconda3/lib/python3.8/site-packages (from scikit-learn>=0.20.0->ogb) (1.5.2)\n",
      "Requirement already satisfied: threadpoolctl>=2.0.0 in /opt/anaconda3/lib/python3.8/site-packages (from scikit-learn>=0.20.0->ogb) (2.1.0)\n",
      "Requirement already satisfied: joblib>=0.11 in /opt/anaconda3/lib/python3.8/site-packages (from scikit-learn>=0.20.0->ogb) (0.17.0)\n",
      "Requirement already satisfied: chardet<4,>=3.0.2 in /opt/anaconda3/lib/python3.8/site-packages (from requests->outdated>=0.2.0->ogb) (3.0.4)\n",
      "Requirement already satisfied: idna<3,>=2.5 in /opt/anaconda3/lib/python3.8/site-packages (from requests->outdated>=0.2.0->ogb) (2.10)\n",
      "Requirement already satisfied: certifi>=2017.4.17 in /opt/anaconda3/lib/python3.8/site-packages (from requests->outdated>=0.2.0->ogb) (2020.6.20)\n"
     ]
    }
   ],
   "source": [
    "!pip install -q torch-scatter -f https://pytorch-geometric.com/whl/torch-1.7.0+cu101.html\n",
    "!pip install -q torch-sparse -f https://pytorch-geometric.com/whl/torch-1.7.0+cu101.html\n",
    "!pip install -q torch-geometric\n",
    "!pip install ogb"
   ]
  },
  {
   "cell_type": "markdown",
   "metadata": {
    "id": "Nwwq0nSdmsOL"
   },
   "source": [
    "# 1 PyTorch Geometric (Datasets and Data)\n"
   ]
  },
  {
   "cell_type": "markdown",
   "metadata": {
    "id": "Sf7vUmdNKCjA"
   },
   "source": [
    "PyTorch Geometric generally has two classes for storing or transforming the graphs into tensor format. One is the `torch_geometric.datasets`, which contains a variety of common graph datasets. Another one is `torch_geometric.data` that provides the data handling of graphs in PyTorch tensors.\n",
    "\n",
    "In this section, we will learn how to use the `torch_geometric.datasets` and `torch_geometric.data`."
   ]
  },
  {
   "cell_type": "markdown",
   "metadata": {
    "id": "ic-o1P3r6hr2"
   },
   "source": [
    "## PyG Datasets\n",
    "\n",
    "The `torch_geometric.datasets` has many common graph datasets. Here we will explore the usage by using one example dataset."
   ]
  },
  {
   "cell_type": "code",
   "execution_count": 58,
   "metadata": {
    "id": "zT5qca3x6XpG"
   },
   "outputs": [
    {
     "name": "stdout",
     "output_type": "stream",
     "text": [
      "ENZYMES(600)\n"
     ]
    }
   ],
   "source": [
    "from torch_geometric.datasets import TUDataset\n",
    "\n",
    "root = './enzymes'\n",
    "name = 'ENZYMES'\n",
    "\n",
    "# The ENZYMES dataset\n",
    "pyg_dataset= TUDataset('./enzymes', 'ENZYMES')\n",
    "\n",
    "# You can find that there are 600 graphs in this dataset\n",
    "print(pyg_dataset)\n",
    "\n",
    "# ENZYMES consists of 600 graphs within 6 classes"
   ]
  },
  {
   "cell_type": "markdown",
   "metadata": {
    "id": "NLm5vVYMAP2x"
   },
   "source": [
    "## Question 1: What is the number of classes and number of features in the ENZYMES dataset? (5 points)"
   ]
  },
  {
   "cell_type": "code",
   "execution_count": 60,
   "metadata": {
    "id": "8iF_Kyqr_JbY"
   },
   "outputs": [
    {
     "name": "stdout",
     "output_type": "stream",
     "text": [
      "ENZYMES dataset has 6 classes\n",
      "ENZYMES dataset has 3 features\n"
     ]
    }
   ],
   "source": [
    "def get_num_classes(pyg_dataset):\n",
    "  # TODO: Implement this function that takes a PyG dataset object\n",
    "  # and return the number of classes for that dataset.\n",
    "\n",
    "  ############# Your code here ############\n",
    "  ## (~1 line of code)\n",
    "  ## Note\n",
    "  ## 1. Colab autocomplete functionality might be useful.\n",
    "    num_classes = pyg_dataset.num_classes\n",
    "  #########################################\n",
    "\n",
    "    return num_classes\n",
    "\n",
    "def get_num_features(pyg_dataset):\n",
    "  # TODO: Implement this function that takes a PyG dataset object\n",
    "  # and return the number of features for that dataset.\n",
    "\n",
    "  ############# Your code here ############\n",
    "  ## (~1 line of code)\n",
    "  ## Note\n",
    "  ## 1. Colab autocomplete functionality might be useful.\n",
    "    num_features = pyg_dataset.num_features\n",
    "  #########################################\n",
    "\n",
    "    return num_features\n",
    "\n",
    "# You may find that some information need to be stored in the dataset level,\n",
    "# specifically if there are multiple graphs in the dataset\n",
    "\n",
    "num_classes = get_num_classes(pyg_dataset)\n",
    "num_features = get_num_features(pyg_dataset)\n",
    "print(\"{} dataset has {} classes\".format(name, num_classes))\n",
    "print(\"{} dataset has {} features\".format(name, num_features))"
   ]
  },
  {
   "cell_type": "markdown",
   "metadata": {
    "id": "rwKbzhHUAckZ"
   },
   "source": [
    "## PyG Data\n",
    "\n",
    "Each PyG dataset usually stores a list of `torch_geometric.data.Data` objects. Each `torch_geometric.data.Data` object usually represents a graph. You can easily get the `Data` object by indexing on the dataset.\n",
    "\n",
    "For more information such as what will be stored in `Data` object, please refer to the [documentation](https://pytorch-geometric.readthedocs.io/en/latest/modules/data.html#torch_geometric.data.Data)."
   ]
  },
  {
   "cell_type": "markdown",
   "metadata": {
    "id": "7sCV3xJWCddX"
   },
   "source": [
    "## Question 2: What is the label of the graph (index 100 in the ENZYMES dataset)? (5 points)"
   ]
  },
  {
   "cell_type": "code",
   "execution_count": 62,
   "metadata": {
    "id": "LIis9oTZAfs3"
   },
   "outputs": [
    {
     "name": "stdout",
     "output_type": "stream",
     "text": [
      "Data(edge_index=[2, 168], x=[37, 3], y=[1])\n",
      "Graph with index 100 has label 4\n"
     ]
    }
   ],
   "source": [
    "def get_graph_class(pyg_dataset, idx):\n",
    "  # TODO: Implement this function that takes a PyG dataset object,\n",
    "  # the index of the graph in dataset, and returns the class/label \n",
    "  # of the graph (in integer).\n",
    "\n",
    "\n",
    "  ############# Your code here ############\n",
    "  ## (~1 line of code)\n",
    "    label = pyg_dataset[idx].y[0]\n",
    "  #########################################\n",
    "\n",
    "    return label\n",
    "\n",
    "# Here pyg_dataset is a dataset for graph classification\n",
    "graph_0 = pyg_dataset[0]\n",
    "print(graph_0)\n",
    "idx = 100\n",
    "label = get_graph_class(pyg_dataset, idx)\n",
    "print('Graph with index {} has label {}'.format(idx, label))"
   ]
  },
  {
   "cell_type": "markdown",
   "metadata": {
    "id": "fKhcVeAhCwoY"
   },
   "source": [
    "## Question 3: What is the number of edges for the graph (index 200 in the ENZYMES dataset)? (5 points)"
   ]
  },
  {
   "cell_type": "code",
   "execution_count": 64,
   "metadata": {
    "id": "f5m2DOfhBtWv"
   },
   "outputs": [
    {
     "name": "stdout",
     "output_type": "stream",
     "text": [
      "Graph with index 200 has 106 edges\n"
     ]
    }
   ],
   "source": [
    "def get_graph_num_edges(pyg_dataset, idx):\n",
    "  # TODO: Implement this function that takes a PyG dataset object,\n",
    "  # the index of the graph in dataset, and returns the number of \n",
    "  # edges in the graph (in integer). You should not count an edge \n",
    "  # twice if the graph is undirected. For example, in an undirected \n",
    "  # graph G, if two nodes v and u are connected by an edge, this edge\n",
    "  # should only be counted once.\n",
    "\n",
    "\n",
    "  ############# Your code here ############\n",
    "  ## Note:\n",
    "  ## 1. You can't return the data.num_edges directly\n",
    "  ## 2. We assume the graph is undirected\n",
    "  ## (~4 lines of code)\n",
    "    num_edges = pyg_dataset[idx].edge_index.shape[1]\n",
    "  #########################################\n",
    "\n",
    "    return num_edges\n",
    "\n",
    "idx = 200\n",
    "num_edges = get_graph_num_edges(pyg_dataset, idx)\n",
    "print('Graph with index {} has {} edges'.format(idx, num_edges))"
   ]
  },
  {
   "cell_type": "markdown",
   "metadata": {
    "id": "AXa7yIG4E0Fp"
   },
   "source": [
    "# 2 Open Graph Benchmark (OGB)\n",
    "\n",
    "The Open Graph Benchmark (OGB) is a collection of realistic, large-scale, and diverse benchmark datasets for machine learning on graphs. Its datasets are automatically downloaded, processed, and split using the OGB Data Loader. The model performance can also be evaluated by using the OGB Evaluator in a unified manner."
   ]
  },
  {
   "cell_type": "markdown",
   "metadata": {
    "id": "HnazPGGAJAZN"
   },
   "source": [
    "## Dataset and Data\n",
    "\n",
    "OGB also supports the PyG dataset and data. Here we take a look on the `ogbn-arxiv` dataset."
   ]
  },
  {
   "cell_type": "code",
   "execution_count": 67,
   "metadata": {
    "id": "Gpc6bTm3GF02"
   },
   "outputs": [
    {
     "name": "stdout",
     "output_type": "stream",
     "text": [
      "Downloading http://snap.stanford.edu/ogb/data/nodeproppred/arxiv.zip\n"
     ]
    },
    {
     "name": "stderr",
     "output_type": "stream",
     "text": [
      "Downloaded 0.08 GB: 100%|██████████| 81/81 [00:23<00:00,  3.43it/s]\n"
     ]
    },
    {
     "name": "stdout",
     "output_type": "stream",
     "text": [
      "Extracting dataset/arxiv.zip\n",
      "Processing...\n",
      "Loading necessary files...\n",
      "This might take a while.\n"
     ]
    },
    {
     "name": "stderr",
     "output_type": "stream",
     "text": [
      "100%|██████████| 1/1 [00:00<00:00, 16194.22it/s]\n",
      "100%|██████████| 1/1 [00:00<00:00, 6853.44it/s]"
     ]
    },
    {
     "name": "stdout",
     "output_type": "stream",
     "text": [
      "Processing graphs...\n",
      "Converting graphs into PyG objects...\n",
      "Saving...\n",
      "Done!\n",
      "The ogbn-arxiv dataset has 1 graph\n"
     ]
    },
    {
     "name": "stderr",
     "output_type": "stream",
     "text": [
      "\n"
     ]
    },
    {
     "name": "stdout",
     "output_type": "stream",
     "text": [
      "Data(adj_t=[169343, 169343, nnz=1166243], node_year=[169343, 1], x=[169343, 128], y=[169343, 1])\n"
     ]
    }
   ],
   "source": [
    "import torch_geometric.transforms as T\n",
    "from ogb.nodeproppred import PygNodePropPredDataset\n",
    "\n",
    "dataset_name = 'ogbn-arxiv'\n",
    "# Load the dataset and transform it to sparse tensor\n",
    "dataset = PygNodePropPredDataset(name=dataset_name,\n",
    "                                 transform=T.ToSparseTensor())\n",
    "print('The {} dataset has {} graph'.format(dataset_name, len(dataset)))\n",
    "\n",
    "# Extract the graph\n",
    "data = dataset[0]\n",
    "print(data)"
   ]
  },
  {
   "cell_type": "markdown",
   "metadata": {
    "id": "Cw0xZJKZI-n3"
   },
   "source": [
    "## Question 4: What is the number of features in the ogbn-arxiv graph? (5 points)"
   ]
  },
  {
   "cell_type": "code",
   "execution_count": 68,
   "metadata": {
    "id": "ZP844_nT2ZJl"
   },
   "outputs": [
    {
     "name": "stdout",
     "output_type": "stream",
     "text": [
      "The graph has 128 features\n"
     ]
    }
   ],
   "source": [
    "def graph_num_features(data):\n",
    "  # TODO: Implement this function that takes a PyG data object,\n",
    "  # and returns the number of features in the graph (in integer).\n",
    "\n",
    "\n",
    "  ############# Your code here ############\n",
    "  ## (~1 line of code)\n",
    "    num_features = data.num_features\n",
    "  #########################################\n",
    "\n",
    "    return num_features\n",
    "\n",
    "num_features = graph_num_features(data)\n",
    "print('The graph has {} features'.format(num_features))"
   ]
  },
  {
   "cell_type": "markdown",
   "metadata": {
    "id": "9DP_yEQZ0NVW"
   },
   "source": [
    "# 3 GNN: Node Property Prediction\n",
    "\n",
    "In this section we will build our first graph neural network by using PyTorch Geometric and apply it on node property prediction (node classification).\n",
    "\n",
    "We will build the graph neural network by using GCN operator ([Kipf et al. (2017)](https://arxiv.org/pdf/1609.02907.pdf)).\n",
    "\n",
    "You should use the PyG built-in `GCNConv` layer directly. "
   ]
  },
  {
   "cell_type": "markdown",
   "metadata": {
    "id": "O4CcOUEoInjD"
   },
   "source": [
    "## Setup"
   ]
  },
  {
   "cell_type": "code",
   "execution_count": 69,
   "metadata": {
    "id": "-DCtgcHpGIpd"
   },
   "outputs": [
    {
     "name": "stdout",
     "output_type": "stream",
     "text": [
      "1.9.0\n"
     ]
    }
   ],
   "source": [
    "import torch\n",
    "import torch.nn.functional as F\n",
    "print(torch.__version__)\n",
    "\n",
    "# The PyG built-in GCNConv\n",
    "from torch_geometric.nn import GCNConv\n",
    "\n",
    "import torch_geometric.transforms as T\n",
    "from ogb.nodeproppred import PygNodePropPredDataset, Evaluator"
   ]
  },
  {
   "cell_type": "markdown",
   "metadata": {
    "id": "0IK9z0wQIwzQ"
   },
   "source": [
    "## Load and Preprocess the Dataset"
   ]
  },
  {
   "cell_type": "code",
   "execution_count": 70,
   "metadata": {
    "id": "0ibJ0ieoIwQM"
   },
   "outputs": [
    {
     "name": "stdout",
     "output_type": "stream",
     "text": [
      "Device: cpu\n"
     ]
    }
   ],
   "source": [
    "dataset_name = 'ogbn-arxiv'\n",
    "dataset = PygNodePropPredDataset(name=dataset_name,\n",
    "                                 transform=T.ToSparseTensor())\n",
    "data = dataset[0]\n",
    "\n",
    "# Make the adjacency matrix to symmetric\n",
    "data.adj_t = data.adj_t.to_symmetric()\n",
    "\n",
    "device = 'cuda' if torch.cuda.is_available() else 'cpu'\n",
    "\n",
    "# If you use GPU, the device should be cuda\n",
    "print('Device: {}'.format(device))\n",
    "\n",
    "data = data.to(device)\n",
    "split_idx = dataset.get_idx_split()\n",
    "train_idx = split_idx['train'].to(device)"
   ]
  },
  {
   "cell_type": "markdown",
   "metadata": {
    "id": "OgUA815bNJ8w"
   },
   "source": [
    "## GCN Model\n",
    "\n",
    "Now we will implement our GCN model!\n",
    "\n",
    "Please follow the figure below to implement your `forward` function.\n",
    "\n",
    "\n",
    "![test](https://drive.google.com/uc?id=128AuYAXNXGg7PIhJJ7e420DoPWKb-RtL)"
   ]
  },
  {
   "cell_type": "code",
   "execution_count": 82,
   "metadata": {},
   "outputs": [
    {
     "data": {
      "text/plain": [
       "3"
      ]
     },
     "execution_count": 82,
     "metadata": {},
     "output_type": "execute_result"
    }
   ],
   "source": [
    "a = torch.nn.ModuleList([GCNConv(in_channels=5, out_channels=10)]\n",
    "                                    \n",
    "                                        +[GCNConv(in_channels=10, out_channels=10)]\n",
    "                                        +[GCNConv(in_channels=10, out_channels=1)]\n",
    "                                        )\n",
    "len(a)"
   ]
  },
  {
   "cell_type": "code",
   "execution_count": 105,
   "metadata": {
    "id": "IgspXTYpNJLA"
   },
   "outputs": [],
   "source": [
    "class GCN(torch.nn.Module):\n",
    "    def __init__(self, input_dim, hidden_dim, output_dim, num_layers,\n",
    "                 dropout, return_embeds=False):\n",
    "        # TODO: Implement this function that initializes self.convs, \n",
    "        # self.bns, and self.softmax.\n",
    "\n",
    "        super(GCN, self).__init__()\n",
    "\n",
    "        # A list of GCNConv layers\n",
    "        self.convs = torch.nn.ModuleList([GCNConv(in_channels=input_dim, out_channels=hidden_dim)]\n",
    "                                         # num_layers-2 because we don't count 1st and last GCNConv layers\n",
    "                                        +[GCNConv(in_channels=hidden_dim, out_channels=hidden_dim) for i in range(num_layers-2)]\n",
    "                                        +[GCNConv(in_channels=hidden_dim, out_channels=output_dim)]\n",
    "                                        )\n",
    "\n",
    "        # A list of 1D batch normalization layers\n",
    "        self.bns = torch.nn.ModuleList([torch.nn.BatchNorm1d(num_features=hidden_dim) for i in range(num_layers-1)])\n",
    "\n",
    "        # The log softmax layer\n",
    "        self.softmax = torch.nn.LogSoftmax()\n",
    "\n",
    "        ############# Your code here ############\n",
    "        ## Note:\n",
    "        ## 1. You should use torch.nn.ModuleList for self.convs and self.bns\n",
    "        ## 2. self.convs has num_layers GCNConv layers\n",
    "        ## 3. self.bns has num_layers - 1 BatchNorm1d layers\n",
    "        ## 4. You should use torch.nn.LogSoftmax for self.softmax\n",
    "        ## 5. The parameters you can set for GCNConv include 'in_channels' and \n",
    "        ## 'out_channels'. More information please refer to the documentation:\n",
    "        ## https://pytorch-geometric.readthedocs.io/en/latest/modules/nn.html#torch_geometric.nn.conv.GCNConv\n",
    "        ## 6. The only parameter you need to set for BatchNorm1d is 'num_features'\n",
    "        ## More information please refer to the documentation: \n",
    "        ## https://pytorch.org/docs/stable/generated/torch.nn.BatchNorm1d.html\n",
    "        ## (~10 lines of code)\n",
    "\n",
    "        #########################################\n",
    "\n",
    "        # Probability of an element to be zeroed\n",
    "        self.dropout = dropout\n",
    "\n",
    "        # Skip classification layer and return node embeddings\n",
    "        self.return_embeds = return_embeds\n",
    "\n",
    "    def reset_parameters(self):\n",
    "        for conv in self.convs:\n",
    "            conv.reset_parameters()\n",
    "        for bn in self.bns:\n",
    "            bn.reset_parameters()\n",
    "\n",
    "    def forward(self, x, adj_t):\n",
    "        # TODO: Implement this function that takes the feature tensor x,\n",
    "        # edge_index tensor adj_t and returns the output tensor as\n",
    "        # shown in the figure.\n",
    "\n",
    "\n",
    "        ############# Your code here ############\n",
    "        ## Note:\n",
    "        ## 1. Construct the network as showing in the figure\n",
    "        ## 2. torch.nn.functional.relu and torch.nn.functional.dropout are useful\n",
    "        ## More information please refer to the documentation:\n",
    "        ## https://pytorch.org/docs/stable/nn.functional.html\n",
    "        ## 3. Don't forget to set F.dropout training to self.training\n",
    "        ## 4. If return_embeds is True, then skip the last softmax layer\n",
    "        ## (~7 lines of code)\n",
    "        for h_layer_idx in range(len(self.bns)):\n",
    "            conv = self.convs[h_layer_idx]\n",
    "            bn = self.bns[h_layer_idx]\n",
    "            x = F.relu(bn(conv(x, adj_t))) # 1. Apply graph conv 2. Apply batch norm 3. Apply ReLU\n",
    "            if self.training:\n",
    "                x = F.dropout(x) # Apply dropout\n",
    "        conv = self.convs[-1] # Last layer of conv\n",
    "        x = conv(x, adj_t)\n",
    "        out = x if self.return_embeds else self.softmax(x)\n",
    "            \n",
    "        #########################################\n",
    "\n",
    "        return out"
   ]
  },
  {
   "cell_type": "code",
   "execution_count": 106,
   "metadata": {
    "id": "FF1hnHUhO81e"
   },
   "outputs": [],
   "source": [
    "def train(model, data, train_idx, optimizer, loss_fn):\n",
    "    # TODO: Implement this function that trains the model by \n",
    "    # using the given optimizer and loss_fn.\n",
    "    model.train()\n",
    "    loss = 0\n",
    "\n",
    "    ############# Your code here ############\n",
    "    ## Note:\n",
    "    ## 1. Zero grad the optimizer\n",
    "    ## 2. Feed the data into the model\n",
    "    ## 3. Slicing the model output and label by train_idx\n",
    "    ## 4. Feed the sliced output and label to loss_fn\n",
    "    ## (~4 lines of code)\n",
    "    \n",
    "    optimizer.zero_grad()\n",
    "    pred = model(data.x, data.adj_t)\n",
    "    loss = loss_fn(pred[train_idx], data.y[train_idx].reshape(-1))\n",
    "    \n",
    "    #########################################\n",
    "\n",
    "    loss.backward()\n",
    "    optimizer.step()\n",
    "\n",
    "    return loss.item()"
   ]
  },
  {
   "cell_type": "code",
   "execution_count": 107,
   "metadata": {
    "id": "aJdlrJQhPBsK"
   },
   "outputs": [],
   "source": [
    "# Test function here\n",
    "@torch.no_grad()\n",
    "def test(model, data, split_idx, evaluator):\n",
    "    # TODO: Implement this function that tests the model by \n",
    "    # using the given split_idx and evaluator.\n",
    "    model.eval()\n",
    "\n",
    "    # The output of model on all data\n",
    "    out = None\n",
    "\n",
    "    ############# Your code here ############\n",
    "    ## (~1 line of code)\n",
    "    ## Note:\n",
    "    ## 1. No index slicing here\n",
    "    out = model(data.x, data.adj_t)\n",
    "    #########################################\n",
    "\n",
    "    y_pred = out.argmax(dim=-1, keepdim=True)\n",
    "\n",
    "    train_acc = evaluator.eval({\n",
    "        'y_true': data.y[split_idx['train']],\n",
    "        'y_pred': y_pred[split_idx['train']],\n",
    "    })['acc']\n",
    "    valid_acc = evaluator.eval({\n",
    "        'y_true': data.y[split_idx['valid']],\n",
    "        'y_pred': y_pred[split_idx['valid']],\n",
    "    })['acc']\n",
    "    test_acc = evaluator.eval({\n",
    "        'y_true': data.y[split_idx['test']],\n",
    "        'y_pred': y_pred[split_idx['test']],\n",
    "    })['acc']\n",
    "\n",
    "    return train_acc, valid_acc, test_acc"
   ]
  },
  {
   "cell_type": "code",
   "execution_count": 108,
   "metadata": {
    "id": "o7F46xkuLiOL"
   },
   "outputs": [
    {
     "data": {
      "text/plain": [
       "{'device': 'cpu',\n",
       " 'num_layers': 3,\n",
       " 'hidden_dim': 256,\n",
       " 'dropout': 0.5,\n",
       " 'lr': 0.01,\n",
       " 'epochs': 100}"
      ]
     },
     "execution_count": 108,
     "metadata": {},
     "output_type": "execute_result"
    }
   ],
   "source": [
    "# Please do not change the args\n",
    "args = {\n",
    "    'device': device,\n",
    "    'num_layers': 3,\n",
    "    'hidden_dim': 256,\n",
    "    'dropout': 0.5,\n",
    "    'lr': 0.01,\n",
    "    'epochs': 100,\n",
    "}\n",
    "args"
   ]
  },
  {
   "cell_type": "code",
   "execution_count": 109,
   "metadata": {
    "id": "dT8RyM2cPGxM"
   },
   "outputs": [],
   "source": [
    "model = GCN(data.num_features, args['hidden_dim'],\n",
    "            dataset.num_classes, args['num_layers'],\n",
    "            args['dropout']).to(device)\n",
    "evaluator = Evaluator(name='ogbn-arxiv')"
   ]
  },
  {
   "cell_type": "code",
   "execution_count": 110,
   "metadata": {
    "id": "qd5O5cnPPdVF"
   },
   "outputs": [
    {
     "name": "stderr",
     "output_type": "stream",
     "text": [
      "<ipython-input-105-19e74fe11429>:73: UserWarning: Implicit dimension choice for log_softmax has been deprecated. Change the call to include dim=X as an argument.\n",
      "  out = x if self.return_embeds else self.softmax(x)\n"
     ]
    },
    {
     "name": "stdout",
     "output_type": "stream",
     "text": [
      "Epoch: 01, Loss: 4.0893, Train: 26.67%, Valid: 29.65% Test: 26.52%\n",
      "Epoch: 02, Loss: 2.3702, Train: 23.01%, Valid: 19.76% Test: 23.87%\n",
      "Epoch: 03, Loss: 2.0229, Train: 19.04%, Valid: 8.76% Test: 6.57%\n",
      "Epoch: 04, Loss: 1.8043, Train: 21.35%, Valid: 11.21% Test: 8.59%\n",
      "Epoch: 05, Loss: 1.6841, Train: 26.32%, Valid: 16.73% Test: 14.02%\n",
      "Epoch: 06, Loss: 1.5841, Train: 32.01%, Valid: 22.94% Test: 21.95%\n",
      "Epoch: 07, Loss: 1.5310, Train: 36.18%, Valid: 29.64% Test: 31.26%\n",
      "Epoch: 08, Loss: 1.4829, Train: 41.36%, Valid: 39.58% Test: 42.23%\n",
      "Epoch: 09, Loss: 1.4293, Train: 45.46%, Valid: 47.38% Test: 49.73%\n",
      "Epoch: 10, Loss: 1.3840, Train: 45.88%, Valid: 49.03% Test: 51.39%\n",
      "Epoch: 11, Loss: 1.3509, Train: 44.54%, Valid: 48.02% Test: 50.54%\n",
      "Epoch: 12, Loss: 1.3280, Train: 43.37%, Valid: 46.46% Test: 48.97%\n",
      "Epoch: 13, Loss: 1.2981, Train: 43.62%, Valid: 46.05% Test: 48.61%\n",
      "Epoch: 14, Loss: 1.2843, Train: 45.21%, Valid: 47.14% Test: 49.61%\n",
      "Epoch: 15, Loss: 1.2653, Train: 47.45%, Valid: 49.44% Test: 51.95%\n",
      "Epoch: 16, Loss: 1.2468, Train: 49.71%, Valid: 52.51% Test: 54.29%\n",
      "Epoch: 17, Loss: 1.2339, Train: 52.00%, Valid: 54.76% Test: 55.87%\n",
      "Epoch: 18, Loss: 1.2143, Train: 54.16%, Valid: 57.06% Test: 57.61%\n",
      "Epoch: 19, Loss: 1.2015, Train: 56.11%, Valid: 58.91% Test: 59.64%\n",
      "Epoch: 20, Loss: 1.1875, Train: 57.38%, Valid: 59.92% Test: 60.78%\n",
      "Epoch: 21, Loss: 1.1777, Train: 58.02%, Valid: 60.35% Test: 60.93%\n",
      "Epoch: 22, Loss: 1.1658, Train: 58.40%, Valid: 60.37% Test: 60.54%\n",
      "Epoch: 23, Loss: 1.1580, Train: 58.50%, Valid: 60.06% Test: 59.21%\n",
      "Epoch: 24, Loss: 1.1486, Train: 58.20%, Valid: 58.57% Test: 57.28%\n",
      "Epoch: 25, Loss: 1.1394, Train: 58.30%, Valid: 57.73% Test: 56.21%\n",
      "Epoch: 26, Loss: 1.1309, Train: 58.76%, Valid: 57.83% Test: 56.39%\n",
      "Epoch: 27, Loss: 1.1228, Train: 59.72%, Valid: 58.70% Test: 57.86%\n",
      "Epoch: 28, Loss: 1.1153, Train: 60.65%, Valid: 60.20% Test: 59.87%\n",
      "Epoch: 29, Loss: 1.1042, Train: 61.77%, Valid: 61.62% Test: 61.76%\n",
      "Epoch: 30, Loss: 1.1029, Train: 62.96%, Valid: 62.93% Test: 63.41%\n",
      "Epoch: 31, Loss: 1.0958, Train: 64.28%, Valid: 64.25% Test: 64.57%\n",
      "Epoch: 32, Loss: 1.0902, Train: 65.46%, Valid: 65.29% Test: 65.47%\n",
      "Epoch: 33, Loss: 1.0840, Train: 66.35%, Valid: 66.12% Test: 66.17%\n",
      "Epoch: 34, Loss: 1.0790, Train: 67.11%, Valid: 66.85% Test: 66.69%\n",
      "Epoch: 35, Loss: 1.0768, Train: 67.68%, Valid: 67.52% Test: 67.09%\n",
      "Epoch: 36, Loss: 1.0668, Train: 68.12%, Valid: 67.89% Test: 67.16%\n",
      "Epoch: 37, Loss: 1.0640, Train: 68.57%, Valid: 67.97% Test: 66.72%\n",
      "Epoch: 38, Loss: 1.0570, Train: 68.93%, Valid: 67.85% Test: 66.41%\n",
      "Epoch: 39, Loss: 1.0550, Train: 69.37%, Valid: 68.20% Test: 66.71%\n",
      "Epoch: 40, Loss: 1.0507, Train: 69.77%, Valid: 68.60% Test: 67.38%\n",
      "Epoch: 41, Loss: 1.0482, Train: 69.94%, Valid: 68.99% Test: 68.12%\n",
      "Epoch: 42, Loss: 1.0431, Train: 70.07%, Valid: 69.27% Test: 68.61%\n",
      "Epoch: 43, Loss: 1.0413, Train: 70.19%, Valid: 69.49% Test: 68.71%\n",
      "Epoch: 44, Loss: 1.0358, Train: 70.39%, Valid: 69.67% Test: 68.86%\n",
      "Epoch: 45, Loss: 1.0328, Train: 70.63%, Valid: 69.88% Test: 68.91%\n",
      "Epoch: 46, Loss: 1.0283, Train: 70.87%, Valid: 70.19% Test: 69.24%\n",
      "Epoch: 47, Loss: 1.0257, Train: 70.98%, Valid: 70.51% Test: 69.66%\n",
      "Epoch: 48, Loss: 1.0212, Train: 71.01%, Valid: 70.66% Test: 69.80%\n",
      "Epoch: 49, Loss: 1.0189, Train: 71.05%, Valid: 70.64% Test: 69.64%\n",
      "Epoch: 50, Loss: 1.0184, Train: 71.15%, Valid: 70.37% Test: 69.20%\n",
      "Epoch: 51, Loss: 1.0112, Train: 71.16%, Valid: 70.18% Test: 68.98%\n",
      "Epoch: 52, Loss: 1.0092, Train: 71.19%, Valid: 70.16% Test: 68.91%\n",
      "Epoch: 53, Loss: 1.0053, Train: 71.26%, Valid: 70.18% Test: 68.94%\n",
      "Epoch: 54, Loss: 1.0016, Train: 71.44%, Valid: 70.42% Test: 69.14%\n",
      "Epoch: 55, Loss: 1.0035, Train: 71.65%, Valid: 70.64% Test: 69.43%\n",
      "Epoch: 56, Loss: 0.9977, Train: 71.78%, Valid: 70.82% Test: 69.56%\n",
      "Epoch: 57, Loss: 0.9972, Train: 71.81%, Valid: 70.74% Test: 69.86%\n",
      "Epoch: 58, Loss: 0.9952, Train: 71.88%, Valid: 70.89% Test: 70.00%\n",
      "Epoch: 59, Loss: 0.9894, Train: 71.95%, Valid: 70.90% Test: 69.84%\n",
      "Epoch: 60, Loss: 0.9876, Train: 72.02%, Valid: 70.95% Test: 69.80%\n",
      "Epoch: 61, Loss: 0.9852, Train: 72.03%, Valid: 70.85% Test: 69.61%\n",
      "Epoch: 62, Loss: 0.9844, Train: 72.05%, Valid: 70.89% Test: 69.55%\n",
      "Epoch: 63, Loss: 0.9795, Train: 72.06%, Valid: 70.93% Test: 69.79%\n",
      "Epoch: 64, Loss: 0.9806, Train: 72.10%, Valid: 71.07% Test: 70.08%\n",
      "Epoch: 65, Loss: 0.9801, Train: 72.20%, Valid: 71.05% Test: 70.49%\n",
      "Epoch: 66, Loss: 0.9759, Train: 72.29%, Valid: 71.14% Test: 70.41%\n",
      "Epoch: 67, Loss: 0.9714, Train: 72.34%, Valid: 71.18% Test: 70.28%\n",
      "Epoch: 68, Loss: 0.9708, Train: 72.36%, Valid: 71.01% Test: 69.85%\n",
      "Epoch: 69, Loss: 0.9704, Train: 72.35%, Valid: 70.91% Test: 69.45%\n",
      "Epoch: 70, Loss: 0.9649, Train: 72.44%, Valid: 71.27% Test: 70.01%\n",
      "Epoch: 71, Loss: 0.9643, Train: 72.42%, Valid: 71.30% Test: 70.05%\n",
      "Epoch: 72, Loss: 0.9627, Train: 72.53%, Valid: 71.15% Test: 69.72%\n",
      "Epoch: 73, Loss: 0.9607, Train: 72.54%, Valid: 70.69% Test: 68.96%\n",
      "Epoch: 74, Loss: 0.9600, Train: 72.64%, Valid: 70.78% Test: 69.05%\n",
      "Epoch: 75, Loss: 0.9589, Train: 72.78%, Valid: 71.03% Test: 69.53%\n",
      "Epoch: 76, Loss: 0.9532, Train: 72.90%, Valid: 71.40% Test: 70.36%\n",
      "Epoch: 77, Loss: 0.9517, Train: 72.88%, Valid: 71.46% Test: 70.70%\n",
      "Epoch: 78, Loss: 0.9505, Train: 73.01%, Valid: 71.42% Test: 70.29%\n",
      "Epoch: 79, Loss: 0.9494, Train: 73.08%, Valid: 71.18% Test: 69.66%\n",
      "Epoch: 80, Loss: 0.9485, Train: 73.03%, Valid: 70.82% Test: 69.25%\n",
      "Epoch: 81, Loss: 0.9477, Train: 72.97%, Valid: 70.74% Test: 69.06%\n",
      "Epoch: 82, Loss: 0.9420, Train: 73.03%, Valid: 70.95% Test: 69.33%\n",
      "Epoch: 83, Loss: 0.9420, Train: 73.11%, Valid: 71.27% Test: 69.79%\n",
      "Epoch: 84, Loss: 0.9410, Train: 73.17%, Valid: 71.54% Test: 70.24%\n",
      "Epoch: 85, Loss: 0.9413, Train: 73.17%, Valid: 71.57% Test: 70.20%\n",
      "Epoch: 86, Loss: 0.9396, Train: 73.23%, Valid: 71.44% Test: 70.14%\n",
      "Epoch: 87, Loss: 0.9359, Train: 73.31%, Valid: 71.53% Test: 70.39%\n",
      "Epoch: 88, Loss: 0.9354, Train: 73.30%, Valid: 71.61% Test: 70.43%\n",
      "Epoch: 89, Loss: 0.9352, Train: 73.43%, Valid: 71.36% Test: 69.89%\n",
      "Epoch: 90, Loss: 0.9335, Train: 73.51%, Valid: 71.41% Test: 69.94%\n",
      "Epoch: 91, Loss: 0.9314, Train: 73.52%, Valid: 71.64% Test: 70.56%\n",
      "Epoch: 92, Loss: 0.9308, Train: 73.58%, Valid: 71.85% Test: 70.73%\n",
      "Epoch: 93, Loss: 0.9274, Train: 73.66%, Valid: 71.81% Test: 70.65%\n",
      "Epoch: 94, Loss: 0.9234, Train: 73.67%, Valid: 71.71% Test: 70.44%\n",
      "Epoch: 95, Loss: 0.9229, Train: 73.65%, Valid: 71.48% Test: 69.99%\n",
      "Epoch: 96, Loss: 0.9207, Train: 73.75%, Valid: 71.42% Test: 69.76%\n",
      "Epoch: 97, Loss: 0.9224, Train: 73.69%, Valid: 71.77% Test: 70.48%\n",
      "Epoch: 98, Loss: 0.9204, Train: 73.63%, Valid: 71.78% Test: 70.61%\n",
      "Epoch: 99, Loss: 0.9217, Train: 73.61%, Valid: 71.52% Test: 70.10%\n",
      "Epoch: 100, Loss: 0.9179, Train: 73.63%, Valid: 71.51% Test: 70.21%\n"
     ]
    }
   ],
   "source": [
    "import copy\n",
    "\n",
    "# reset the parameters to initial random value\n",
    "model.reset_parameters()\n",
    "\n",
    "optimizer = torch.optim.Adam(model.parameters(), lr=args['lr'])\n",
    "loss_fn = F.nll_loss\n",
    "\n",
    "best_model = None\n",
    "best_valid_acc = 0\n",
    "\n",
    "for epoch in range(1, 1 + args[\"epochs\"]):\n",
    "  loss = train(model, data, train_idx, optimizer, loss_fn)\n",
    "  result = test(model, data, split_idx, evaluator)\n",
    "  train_acc, valid_acc, test_acc = result\n",
    "  if valid_acc > best_valid_acc:\n",
    "      best_valid_acc = valid_acc\n",
    "      best_model = copy.deepcopy(model)\n",
    "  print(f'Epoch: {epoch:02d}, '\n",
    "        f'Loss: {loss:.4f}, '\n",
    "        f'Train: {100 * train_acc:.2f}%, '\n",
    "        f'Valid: {100 * valid_acc:.2f}% '\n",
    "        f'Test: {100 * test_acc:.2f}%')"
   ]
  },
  {
   "cell_type": "code",
   "execution_count": 111,
   "metadata": {
    "id": "EqcextqOL2FX"
   },
   "outputs": [
    {
     "name": "stdout",
     "output_type": "stream",
     "text": [
      "Best model: Train: 73.58%, Valid: 71.85% Test: 70.73%\n"
     ]
    },
    {
     "name": "stderr",
     "output_type": "stream",
     "text": [
      "<ipython-input-105-19e74fe11429>:73: UserWarning: Implicit dimension choice for log_softmax has been deprecated. Change the call to include dim=X as an argument.\n",
      "  out = x if self.return_embeds else self.softmax(x)\n"
     ]
    }
   ],
   "source": [
    "best_result = test(best_model, data, split_idx, evaluator)\n",
    "train_acc, valid_acc, test_acc = best_result\n",
    "print(f'Best model: '\n",
    "      f'Train: {100 * train_acc:.2f}%, '\n",
    "      f'Valid: {100 * valid_acc:.2f}% '\n",
    "      f'Test: {100 * test_acc:.2f}%')"
   ]
  },
  {
   "cell_type": "markdown",
   "metadata": {
    "id": "duMEg-olLjbJ"
   },
   "source": [
    "## Question 5: What are your `best_model` validation and test accuracy? Please report them on Gradescope. For example, for an accuracy such as 50.01%, just report 50.01 and please don't include the percent sign. (20 points)"
   ]
  },
  {
   "cell_type": "markdown",
   "metadata": {
    "id": "R8pOD6y80TyI"
   },
   "source": [
    "# 4 GNN: Graph Property Prediction\n",
    "\n",
    "In this section we will create a graph neural network for graph property prediction (graph classification)\n"
   ]
  },
  {
   "cell_type": "markdown",
   "metadata": {
    "id": "vRg5VOEdQTa4"
   },
   "source": [
    "## Load and preprocess the dataset"
   ]
  },
  {
   "cell_type": "code",
   "execution_count": 115,
   "metadata": {
    "id": "LXb-O5QUIgTH"
   },
   "outputs": [
    {
     "name": "stdout",
     "output_type": "stream",
     "text": [
      "Device: cpu\n",
      "Task type: binary classification\n"
     ]
    }
   ],
   "source": [
    "from ogb.graphproppred import PygGraphPropPredDataset, Evaluator\n",
    "from torch_geometric.data import DataLoader\n",
    "from tqdm.notebook import tqdm\n",
    "\n",
    "# Load the dataset \n",
    "dataset = PygGraphPropPredDataset(name='ogbg-molhiv')\n",
    "\n",
    "device = 'cuda' if torch.cuda.is_available() else 'cpu'\n",
    "print('Device: {}'.format(device))\n",
    "\n",
    "split_idx = dataset.get_idx_split()\n",
    "\n",
    "# Check task type\n",
    "print('Task type: {}'.format(dataset.task_type))"
   ]
  },
  {
   "cell_type": "code",
   "execution_count": 116,
   "metadata": {
    "id": "7cHHbgW1c5hi"
   },
   "outputs": [],
   "source": [
    "# Load the data sets into dataloader\n",
    "# We will train the graph classification task on a batch of 32 graphs\n",
    "# Shuffle the order of graphs for training set\n",
    "train_loader = DataLoader(dataset[split_idx[\"train\"]], batch_size=32, shuffle=True, num_workers=0)\n",
    "valid_loader = DataLoader(dataset[split_idx[\"valid\"]], batch_size=32, shuffle=False, num_workers=0)\n",
    "test_loader = DataLoader(dataset[split_idx[\"test\"]], batch_size=32, shuffle=False, num_workers=0)"
   ]
  },
  {
   "cell_type": "code",
   "execution_count": 117,
   "metadata": {
    "id": "AYrSnOj0Y4DK"
   },
   "outputs": [
    {
     "data": {
      "text/plain": [
       "{'device': 'cpu',\n",
       " 'num_layers': 5,\n",
       " 'hidden_dim': 256,\n",
       " 'dropout': 0.5,\n",
       " 'lr': 0.001,\n",
       " 'epochs': 30}"
      ]
     },
     "execution_count": 117,
     "metadata": {},
     "output_type": "execute_result"
    }
   ],
   "source": [
    "# Please do not change the args\n",
    "args = {\n",
    "    'device': device,\n",
    "    'num_layers': 5,\n",
    "    'hidden_dim': 256,\n",
    "    'dropout': 0.5,\n",
    "    'lr': 0.001,\n",
    "    'epochs': 30,\n",
    "}\n",
    "args"
   ]
  },
  {
   "cell_type": "markdown",
   "metadata": {
    "id": "7WLhguSTeazy"
   },
   "source": [
    "## Graph Prediction Model"
   ]
  },
  {
   "cell_type": "markdown",
   "metadata": {
    "id": "u05Z14TRYPGn"
   },
   "source": [
    "Now we will implement our GCN Graph Prediction model!\n",
    "\n",
    "We will reuse the existing GCN model to generate `node_embeddings` and use  Global Pooling on the nodes to predict properties for the whole graph."
   ]
  },
  {
   "cell_type": "code",
   "execution_count": 118,
   "metadata": {
    "id": "3_Kq3zyjeZ22"
   },
   "outputs": [],
   "source": [
    "from ogb.graphproppred.mol_encoder import AtomEncoder\n",
    "from torch_geometric.nn import global_add_pool, global_mean_pool\n",
    "\n",
    "### GCN to predict graph property\n",
    "class GCN_Graph(torch.nn.Module):\n",
    "    def __init__(self, hidden_dim, output_dim, num_layers, dropout):\n",
    "        super(GCN_Graph, self).__init__()\n",
    "\n",
    "        # Load encoders for Atoms in molecule graphs\n",
    "        self.node_encoder = AtomEncoder(hidden_dim)\n",
    "\n",
    "        # Node embedding model\n",
    "        # Note that the input_dim and output_dim are set to hidden_dim\n",
    "        self.gnn_node = GCN(hidden_dim, hidden_dim,\n",
    "            hidden_dim, num_layers, dropout, return_embeds=True) # returns embeddings without final GCNConv and softmax\n",
    "\n",
    "        self.pool = global_mean_pool\n",
    "\n",
    "        ############# Your code here ############\n",
    "        ## Note:\n",
    "        ## 1. Initialize the self.pool to global mean pooling layer\n",
    "        ## More information please refer to the documentation:\n",
    "        ## https://pytorch-geometric.readthedocs.io/en/latest/modules/nn.html#global-pooling-layers\n",
    "        ## (~1 line of code)\n",
    "\n",
    "        #########################################\n",
    "\n",
    "        # Output layer\n",
    "        self.linear = torch.nn.Linear(hidden_dim, output_dim)\n",
    "\n",
    "\n",
    "    def reset_parameters(self):\n",
    "      self.gnn_node.reset_parameters()\n",
    "      self.linear.reset_parameters()\n",
    "\n",
    "    def forward(self, batched_data):\n",
    "        # TODO: Implement this function that takes the input tensor batched_data,\n",
    "        # returns a batched output tensor for each graph.\n",
    "        x, edge_index, batch = batched_data.x, batched_data.edge_index, batched_data.batch\n",
    "        embed = self.node_encoder(x)\n",
    "\n",
    "        out = None\n",
    "\n",
    "        ############# Your code here ############\n",
    "        ## Note:\n",
    "        ## 1. Construct node embeddings using existing GCN model\n",
    "        ## 2. Use global pooling layer to construct features for the whole graph\n",
    "        ## More information please refer to the documentation:\n",
    "        ## https://pytorch-geometric.readthedocs.io/en/latest/modules/nn.html#global-pooling-layers\n",
    "        ## 3. Use a linear layer to predict the graph property \n",
    "        ## (~3 lines of code)\n",
    "        \n",
    "        node_embeds = self.gnn_node(embed, edge_index)\n",
    "        out = self.pool(node_embeds, batch)\n",
    "        out = self.linear(out)\n",
    "        \n",
    "        #########################################\n",
    "\n",
    "        return out"
   ]
  },
  {
   "cell_type": "code",
   "execution_count": 133,
   "metadata": {
    "id": "FJjnGuMSbjX0"
   },
   "outputs": [],
   "source": [
    "def train(model, device, data_loader, optimizer, loss_fn):\n",
    "    # TODO: Implement this function that trains the model by \n",
    "    # using the given optimizer and loss_fn.\n",
    "    model.train()\n",
    "    loss = 0\n",
    "\n",
    "#     for step, batch in enumerate(tqdm(data_loader, desc=\"Iteration\")):\n",
    "    for step, batch in enumerate(data_loader):\n",
    "      batch = batch.to(device)\n",
    "\n",
    "      if batch.x.shape[0] == 1 or batch.batch[-1] == 0:\n",
    "          pass\n",
    "      else:\n",
    "        ## ignore nan targets (unlabeled) when computing training loss.\n",
    "        is_labeled = batch.y == batch.y\n",
    "\n",
    "        ############# Your code here ############\n",
    "        ## Note:\n",
    "        ## 1. Zero grad the optimizer\n",
    "        ## 2. Feed the data into the model\n",
    "        ## 3. Use `is_labeled` mask to filter output and labels\n",
    "        ## 4. You might change the type of label\n",
    "        ## 5. Feed the output and label to loss_fn\n",
    "        ## (~3 lines of code)\n",
    "        optimizer.zero_grad()\n",
    "        pred = model(batch)\n",
    "        loss = loss_fn(pred[is_labeled], batch.y[is_labeled].float())\n",
    "        #########################################\n",
    "\n",
    "        loss.backward()\n",
    "        optimizer.step()\n",
    "\n",
    "    return loss.item()"
   ]
  },
  {
   "cell_type": "code",
   "execution_count": 134,
   "metadata": {
    "id": "ztPHXq_Gzn7U"
   },
   "outputs": [],
   "source": [
    "# The evaluation function\n",
    "def eval(model, device, loader, evaluator):\n",
    "    model.eval()\n",
    "    y_true = []\n",
    "    y_pred = []\n",
    "\n",
    "#     for step, batch in enumerate(tqdm(loader, desc=\"Iteration\")):\n",
    "    for step, batch in enumerate(loader):\n",
    "        batch = batch.to(device)\n",
    "\n",
    "        if batch.x.shape[0] == 1:\n",
    "            pass\n",
    "        else:\n",
    "            with torch.no_grad():\n",
    "                pred = model(batch)\n",
    "\n",
    "            y_true.append(batch.y.view(pred.shape).detach().cpu())\n",
    "            y_pred.append(pred.detach().cpu())\n",
    "\n",
    "    y_true = torch.cat(y_true, dim = 0).numpy()\n",
    "    y_pred = torch.cat(y_pred, dim = 0).numpy()\n",
    "\n",
    "    input_dict = {\"y_true\": y_true, \"y_pred\": y_pred}\n",
    "\n",
    "    return evaluator.eval(input_dict)"
   ]
  },
  {
   "cell_type": "code",
   "execution_count": 135,
   "metadata": {
    "id": "MR1wQ4hMZeMw"
   },
   "outputs": [],
   "source": [
    "model = GCN_Graph(args['hidden_dim'],\n",
    "            dataset.num_tasks, args['num_layers'],\n",
    "            args['dropout']).to(device)\n",
    "evaluator = Evaluator(name='ogbg-molhiv')"
   ]
  },
  {
   "cell_type": "code",
   "execution_count": 136,
   "metadata": {
    "id": "qJGTNZiuZy0A"
   },
   "outputs": [
    {
     "name": "stdout",
     "output_type": "stream",
     "text": [
      "Training...\n"
     ]
    },
    {
     "name": "stderr",
     "output_type": "stream",
     "text": [
      "Exception ignored in: <function tqdm.__del__ at 0x7fa8aa1eb280>\n",
      "Traceback (most recent call last):\n",
      "  File \"/opt/anaconda3/envs/graphml/lib/python3.8/site-packages/tqdm/std.py\", line 1145, in __del__\n",
      "    self.close()\n",
      "  File \"/opt/anaconda3/envs/graphml/lib/python3.8/site-packages/tqdm/notebook.py\", line 283, in close\n",
      "    self.disp(bar_style='danger', check_delay=False)\n",
      "AttributeError: 'tqdm_notebook' object has no attribute 'disp'\n"
     ]
    },
    {
     "name": "stdout",
     "output_type": "stream",
     "text": [
      "Evaluating...\n",
      "Epoch: 01, Loss: 0.0396, Train: 70.29%, Valid: 65.48% Test: 69.46%\n",
      "Training...\n",
      "Evaluating...\n",
      "Epoch: 02, Loss: 0.0324, Train: 74.63%, Valid: 72.01% Test: 74.05%\n",
      "Training...\n",
      "Evaluating...\n",
      "Epoch: 03, Loss: 0.0358, Train: 77.51%, Valid: 73.17% Test: 72.62%\n",
      "Training...\n",
      "Evaluating...\n",
      "Epoch: 04, Loss: 0.4923, Train: 76.96%, Valid: 71.71% Test: 70.05%\n",
      "Training...\n",
      "Evaluating...\n",
      "Epoch: 05, Loss: 0.0458, Train: 77.28%, Valid: 71.26% Test: 72.20%\n",
      "Training...\n",
      "Evaluating...\n",
      "Epoch: 06, Loss: 0.6558, Train: 78.13%, Valid: 75.64% Test: 72.69%\n",
      "Training...\n",
      "Evaluating...\n",
      "Epoch: 07, Loss: 1.3803, Train: 78.35%, Valid: 77.08% Test: 70.95%\n",
      "Training...\n",
      "Evaluating...\n",
      "Epoch: 08, Loss: 0.0802, Train: 78.74%, Valid: 73.77% Test: 71.27%\n",
      "Training...\n",
      "Evaluating...\n",
      "Epoch: 09, Loss: 0.0172, Train: 80.08%, Valid: 77.12% Test: 72.31%\n",
      "Training...\n",
      "Evaluating...\n",
      "Epoch: 10, Loss: 0.0422, Train: 79.24%, Valid: 75.68% Test: 72.29%\n",
      "Training...\n",
      "Evaluating...\n",
      "Epoch: 11, Loss: 0.6107, Train: 79.60%, Valid: 74.22% Test: 71.08%\n",
      "Training...\n",
      "Evaluating...\n",
      "Epoch: 12, Loss: 0.0306, Train: 80.46%, Valid: 75.78% Test: 72.30%\n",
      "Training...\n",
      "Evaluating...\n",
      "Epoch: 13, Loss: 0.0087, Train: 80.24%, Valid: 73.06% Test: 72.19%\n",
      "Training...\n",
      "Evaluating...\n",
      "Epoch: 14, Loss: 0.0283, Train: 80.53%, Valid: 75.07% Test: 66.82%\n",
      "Training...\n",
      "Evaluating...\n",
      "Epoch: 15, Loss: 0.0334, Train: 81.74%, Valid: 77.88% Test: 73.00%\n",
      "Training...\n",
      "Evaluating...\n",
      "Epoch: 16, Loss: 0.0328, Train: 81.34%, Valid: 73.49% Test: 72.31%\n",
      "Training...\n",
      "Evaluating...\n",
      "Epoch: 17, Loss: 0.6221, Train: 82.04%, Valid: 78.16% Test: 73.42%\n",
      "Training...\n",
      "Evaluating...\n",
      "Epoch: 18, Loss: 0.0185, Train: 81.13%, Valid: 80.36% Test: 72.90%\n",
      "Training...\n",
      "Evaluating...\n",
      "Epoch: 19, Loss: 1.0347, Train: 82.86%, Valid: 76.80% Test: 73.83%\n",
      "Training...\n",
      "Evaluating...\n",
      "Epoch: 20, Loss: 0.0403, Train: 82.58%, Valid: 78.59% Test: 73.50%\n",
      "Training...\n",
      "Evaluating...\n",
      "Epoch: 21, Loss: 0.0246, Train: 82.76%, Valid: 79.03% Test: 74.76%\n",
      "Training...\n",
      "Evaluating...\n",
      "Epoch: 22, Loss: 0.0333, Train: 82.37%, Valid: 75.94% Test: 74.36%\n",
      "Training...\n",
      "Evaluating...\n",
      "Epoch: 23, Loss: 0.1530, Train: 82.88%, Valid: 79.56% Test: 74.68%\n",
      "Training...\n",
      "Evaluating...\n",
      "Epoch: 24, Loss: 0.5010, Train: 82.89%, Valid: 77.86% Test: 75.53%\n",
      "Training...\n",
      "Evaluating...\n",
      "Epoch: 25, Loss: 0.0192, Train: 83.33%, Valid: 78.97% Test: 75.64%\n",
      "Training...\n",
      "Evaluating...\n",
      "Epoch: 26, Loss: 0.0186, Train: 83.87%, Valid: 79.96% Test: 76.34%\n",
      "Training...\n",
      "Evaluating...\n",
      "Epoch: 27, Loss: 0.0186, Train: 83.37%, Valid: 79.25% Test: 75.49%\n",
      "Training...\n",
      "Evaluating...\n",
      "Epoch: 28, Loss: 0.0252, Train: 83.97%, Valid: 79.76% Test: 75.67%\n",
      "Training...\n",
      "Evaluating...\n",
      "Epoch: 29, Loss: 0.0228, Train: 83.81%, Valid: 79.08% Test: 75.00%\n",
      "Training...\n",
      "Evaluating...\n",
      "Epoch: 30, Loss: 0.5864, Train: 84.04%, Valid: 80.71% Test: 76.15%\n"
     ]
    }
   ],
   "source": [
    "import copy\n",
    "\n",
    "model.reset_parameters()\n",
    "\n",
    "optimizer = torch.optim.Adam(model.parameters(), lr=args['lr'])\n",
    "loss_fn = torch.nn.BCEWithLogitsLoss()\n",
    "\n",
    "best_model = None\n",
    "best_valid_acc = 0\n",
    "\n",
    "for epoch in range(1, 1 + args[\"epochs\"]):\n",
    "  print('Training...')\n",
    "  loss = train(model, device, train_loader, optimizer, loss_fn)\n",
    "\n",
    "  print('Evaluating...')\n",
    "  train_result = eval(model, device, train_loader, evaluator)\n",
    "  val_result = eval(model, device, valid_loader, evaluator)\n",
    "  test_result = eval(model, device, test_loader, evaluator)\n",
    "\n",
    "  train_acc, valid_acc, test_acc = train_result[dataset.eval_metric], val_result[dataset.eval_metric], test_result[dataset.eval_metric]\n",
    "  if valid_acc > best_valid_acc:\n",
    "      best_valid_acc = valid_acc\n",
    "      best_model = copy.deepcopy(model)\n",
    "  print(f'Epoch: {epoch:02d}, '\n",
    "        f'Loss: {loss:.4f}, '\n",
    "        f'Train: {100 * train_acc:.2f}%, '\n",
    "        f'Valid: {100 * valid_acc:.2f}% '\n",
    "        f'Test: {100 * test_acc:.2f}%')"
   ]
  },
  {
   "cell_type": "code",
   "execution_count": 138,
   "metadata": {
    "id": "Oq5QaG21dOOO"
   },
   "outputs": [
    {
     "name": "stdout",
     "output_type": "stream",
     "text": [
      "Best model: Train: 84.04%, Valid: 80.71% Test: 76.15%\n"
     ]
    }
   ],
   "source": [
    "train_acc = eval(best_model, device, train_loader, evaluator)[dataset.eval_metric]\n",
    "valid_acc = eval(best_model, device, valid_loader, evaluator)[dataset.eval_metric]\n",
    "test_acc = eval(best_model, device, test_loader, evaluator)[dataset.eval_metric]\n",
    "\n",
    "print(f'Best model: '\n",
    "      f'Train: {100 * train_acc:.2f}%, '\n",
    "      f'Valid: {100 * valid_acc:.2f}% '\n",
    "      f'Test: {100 * test_acc:.2f}%')"
   ]
  },
  {
   "cell_type": "markdown",
   "metadata": {
    "id": "-uKs6j6t1ah3"
   },
   "source": [
    "## Question 6: What are your `best_model` validation and test ROC-AUC score? Please report them on Gradescope. For example, for an ROC-AUC score such as 50.01%, just report 50.01 and please don't include the percent sign. (20 points)"
   ]
  },
  {
   "cell_type": "markdown",
   "metadata": {
    "id": "gBi_t8n0iZ4P"
   },
   "source": [
    "## Question 7 (Optional): Experiment with other two global pooling layers other than mean pooling in Pytorch Geometric."
   ]
  },
  {
   "cell_type": "code",
   "execution_count": null,
   "metadata": {
    "id": "taxEEWyh1_jq"
   },
   "outputs": [],
   "source": []
  },
  {
   "cell_type": "markdown",
   "metadata": {
    "id": "e7JXsMTBgeOI"
   },
   "source": [
    "# Submission\n",
    "\n",
    "In order to get credit, you must go submit your answers on Gradescope.\n",
    "\n",
    "Also, you need to submit the `ipynb` file of Colab 2, by clicking `File` and `Download .ipynb`. Please make sure that your output of each cell is available in your `ipynb` file."
   ]
  }
 ],
 "metadata": {
  "accelerator": "GPU",
  "colab": {
   "collapsed_sections": [],
   "machine_shape": "hm",
   "name": "CS224W - Colab 2.ipynb",
   "provenance": [],
   "toc_visible": true
  },
  "kernelspec": {
   "display_name": "graphml",
   "language": "python",
   "name": "graphml"
  },
  "language_info": {
   "codemirror_mode": {
    "name": "ipython",
    "version": 3
   },
   "file_extension": ".py",
   "mimetype": "text/x-python",
   "name": "python",
   "nbconvert_exporter": "python",
   "pygments_lexer": "ipython3",
   "version": "3.8.5"
  }
 },
 "nbformat": 4,
 "nbformat_minor": 1
}
